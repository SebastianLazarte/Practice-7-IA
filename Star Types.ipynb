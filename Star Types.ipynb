{
 "cells": [
  {
   "cell_type": "code",
   "execution_count": 1244,
   "metadata": {
    "id": "FPkA4MLb-Mbz"
   },
   "outputs": [],
   "source": [
    "import pandas as pd\n",
    "import tensorflow as tf\n",
    "import numpy as np\n",
    "import math\n",
    "from sklearn.preprocessing import OneHotEncoder, MinMaxScaler, LabelEncoder\n",
    "from keras import models\n",
    "from keras import layers\n",
    "from keras import regularizers\n",
    "import matplotlib.pyplot as plt\n",
    "from keras import optimizers\n",
    "from numpy.random import seed\n",
    "from numpy import array\n",
    "from numpy import argmax\n",
    "from keras import metrics\n",
    "import matplotlib.pyplot as plt\n",
    "from tensorflow.keras.utils import plot_model\n",
    "from tensorflow.keras import optimizers"
   ]
  },
  {
   "cell_type": "code",
   "execution_count": 1245,
   "metadata": {
    "colab": {
     "base_uri": "https://localhost:8080/",
     "height": 143,
     "resources": {
      "http://localhost:8080/nbextensions/google.colab/files.js": {
       "data": "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",
       "headers": [
        [
         "content-type",
         "application/javascript"
        ]
       ],
       "ok": true,
       "status": 200,
       "status_text": ""
      }
     }
    },
    "id": "x50tmPE1-RSd",
    "outputId": "6253ff65-3786-4683-e878-fab22c6bcba4"
   },
   "outputs": [],
   "source": [
    "file_path_assignment = os.path.join(\"data\", \"assignment_ds.csv\")\n",
    "file_path_test = os.path.join(\"data\", \"test_ds.csv\")\n",
    "file_path_sample = os.path.join(\"data\", \"sample_submission.csv\")\n"
   ]
  },
  {
   "cell_type": "markdown",
   "metadata": {
    "id": "Ypyze92QuECb"
   },
   "source": [
    "First we put a seed so that we can have a consistent result (it doesn't change on every iteration).\n",
    "Then we read the csv file."
   ]
  },
  {
   "cell_type": "code",
   "execution_count": 1246,
   "metadata": {
    "colab": {
     "base_uri": "https://localhost:8080/",
     "height": 206
    },
    "id": "j46wnjas_by8",
    "outputId": "1a511ee7-20bf-467e-af12-3aa6620f0821"
   },
   "outputs": [
    {
     "data": {
      "text/html": [
       "<div>\n",
       "<style scoped>\n",
       "    .dataframe tbody tr th:only-of-type {\n",
       "        vertical-align: middle;\n",
       "    }\n",
       "\n",
       "    .dataframe tbody tr th {\n",
       "        vertical-align: top;\n",
       "    }\n",
       "\n",
       "    .dataframe thead th {\n",
       "        text-align: right;\n",
       "    }\n",
       "</style>\n",
       "<table border=\"1\" class=\"dataframe\">\n",
       "  <thead>\n",
       "    <tr style=\"text-align: right;\">\n",
       "      <th></th>\n",
       "      <th>Temperature</th>\n",
       "      <th>L</th>\n",
       "      <th>R</th>\n",
       "      <th>A_M</th>\n",
       "      <th>Color</th>\n",
       "      <th>Spectral_Class</th>\n",
       "      <th>Type</th>\n",
       "    </tr>\n",
       "  </thead>\n",
       "  <tbody>\n",
       "    <tr>\n",
       "      <th>0</th>\n",
       "      <td>3453</td>\n",
       "      <td>0.000621</td>\n",
       "      <td>0.0773</td>\n",
       "      <td>17.08</td>\n",
       "      <td>Red</td>\n",
       "      <td>M</td>\n",
       "      <td>0</td>\n",
       "    </tr>\n",
       "    <tr>\n",
       "      <th>1</th>\n",
       "      <td>12098</td>\n",
       "      <td>689.000000</td>\n",
       "      <td>7.0100</td>\n",
       "      <td>0.02</td>\n",
       "      <td>Blue-white</td>\n",
       "      <td>A</td>\n",
       "      <td>3</td>\n",
       "    </tr>\n",
       "    <tr>\n",
       "      <th>2</th>\n",
       "      <td>2731</td>\n",
       "      <td>0.000437</td>\n",
       "      <td>0.0856</td>\n",
       "      <td>18.09</td>\n",
       "      <td>Red</td>\n",
       "      <td>M</td>\n",
       "      <td>0</td>\n",
       "    </tr>\n",
       "    <tr>\n",
       "      <th>3</th>\n",
       "      <td>37800</td>\n",
       "      <td>202900.000000</td>\n",
       "      <td>6.8600</td>\n",
       "      <td>-4.56</td>\n",
       "      <td>Blue</td>\n",
       "      <td>O</td>\n",
       "      <td>3</td>\n",
       "    </tr>\n",
       "    <tr>\n",
       "      <th>4</th>\n",
       "      <td>8570</td>\n",
       "      <td>0.000810</td>\n",
       "      <td>0.0097</td>\n",
       "      <td>14.20</td>\n",
       "      <td>Blue white</td>\n",
       "      <td>A</td>\n",
       "      <td>2</td>\n",
       "    </tr>\n",
       "  </tbody>\n",
       "</table>\n",
       "</div>"
      ],
      "text/plain": [
       "   Temperature              L       R    A_M       Color Spectral_Class  Type\n",
       "0         3453       0.000621  0.0773  17.08         Red              M     0\n",
       "1        12098     689.000000  7.0100   0.02  Blue-white              A     3\n",
       "2         2731       0.000437  0.0856  18.09         Red              M     0\n",
       "3        37800  202900.000000  6.8600  -4.56        Blue              O     3\n",
       "4         8570       0.000810  0.0097  14.20  Blue white              A     2"
      ]
     },
     "execution_count": 1246,
     "metadata": {},
     "output_type": "execute_result"
    }
   ],
   "source": [
    "seed(10)\n",
    "dataf_assigment = pd.read_csv(file_path_assignment)\n",
    "dataf_assigment.head()"
   ]
  },
  {
   "cell_type": "markdown",
   "metadata": {
    "id": "KvHKvn0Vu3m9"
   },
   "source": [
    "# Dataframe cleaning"
   ]
  },
  {
   "cell_type": "markdown",
   "metadata": {
    "id": "3dAKVvJcw_ii"
   },
   "source": [
    "The first thing we do is check if there are any null values on the data.\n"
   ]
  },
  {
   "cell_type": "code",
   "execution_count": 1247,
   "metadata": {
    "colab": {
     "base_uri": "https://localhost:8080/"
    },
    "id": "caoZcFv5g_XB",
    "outputId": "5dfdc7c6-3683-4610-8f41-012607e6df02"
   },
   "outputs": [
    {
     "name": "stdout",
     "output_type": "stream",
     "text": [
      "Empty DataFrame\n",
      "Columns: []\n",
      "Index: []\n"
     ]
    }
   ],
   "source": [
    "null_columns=dataf_assigment.columns[dataf_assigment.isnull().any()] #Returns if there is any null value on the columns\n",
    "dataf_assigment[null_columns].isnull().sum()  # We can see how many null values are in the columns\n",
    "print(dataf_assigment[dataf_assigment.isnull().any(axis=1)][null_columns].head()) # Prints the position of the null value. As we can see, there is no null value in the dataframe"
   ]
  },
  {
   "cell_type": "markdown",
   "metadata": {
    "id": "yiZWzEiwvSFy"
   },
   "source": [
    "# Colors cleaning\n",
    "\n"
   ]
  },
  {
   "cell_type": "markdown",
   "metadata": {
    "id": "H4mI7rM1xX5Z"
   },
   "source": [
    "Then we check the columns with categorical values, in this case we have 'Color' and 'Spectral_Class'.\n"
   ]
  },
  {
   "cell_type": "markdown",
   "metadata": {
    "id": "zc1AiWGny8tU"
   },
   "source": [
    "With this command we can see the values that appear at least once in the selected column. In this case are the values that are present on the column 'Color'."
   ]
  },
  {
   "cell_type": "code",
   "execution_count": 1248,
   "metadata": {
    "colab": {
     "base_uri": "https://localhost:8080/"
    },
    "id": "DTnvk3nIhEU7",
    "outputId": "542c1b1c-1608-4742-8010-6a65e28ba9c2"
   },
   "outputs": [
    {
     "data": {
      "text/plain": [
       "array(['Red', 'Blue-white', 'Blue', 'Blue white', 'Whitish', 'White',\n",
       "       'Blue White', 'yellowish', 'white', 'yellow-white',\n",
       "       'Yellowish White', 'Orange', 'White-Yellow', 'Pale yellow orange',\n",
       "       'Orange-Red', 'Blue-White', 'Yellowish'], dtype=object)"
      ]
     },
     "execution_count": 1248,
     "metadata": {},
     "output_type": "execute_result"
    }
   ],
   "source": [
    "dataf_assigment['Color'].unique()"
   ]
  },
  {
   "cell_type": "markdown",
   "metadata": {
    "id": "82nwpu5BzB-i"
   },
   "source": [
    "As we can see, there are colors that are the same but with different name, so they don't match as the same color."
   ]
  },
  {
   "cell_type": "markdown",
   "metadata": {
    "id": "U4zMMMghzH9l"
   },
   "source": [
    "The next thing to do is to change the values of the colors so that they could tbe generic. In this case we look for pure colors, not a mix."
   ]
  },
  {
   "cell_type": "code",
   "execution_count": 1249,
   "metadata": {
    "id": "1JnC2PpFkaOf"
   },
   "outputs": [],
   "source": [
    "\n",
    "dataf_assigment['Color'] = dataf_assigment['Color'].map({'Blue-white':'Blue', 'Blue white':'Blue', 'Blue-White':'Blue', 'Blue White':'Blue', 'Blue':'Blue',\n",
    "                             'Whitish':'White', 'white':'White','White':'White',\n",
    "                             'yellowish':'Yellow', 'yellow-white':'Yellow', 'Yellowish White':'Yellow', 'White-Yellow':'Yellow', 'Yellowish':'Yellow','Yellow':'Yellow',\n",
    "                             'Pale yellow orange':'Orange','Orange':'Orange',\n",
    "                             'Orange-Red':'Red','Red':'Red'})"
   ]
  },
  {
   "cell_type": "code",
   "execution_count": 1250,
   "metadata": {
    "colab": {
     "base_uri": "https://localhost:8080/"
    },
    "id": "dk_d5hA7pWbM",
    "outputId": "a275f4fb-1c92-42de-8a16-f66e4669b5bc"
   },
   "outputs": [
    {
     "data": {
      "text/plain": [
       "array(['Red', 'Blue', 'White', 'Yellow', 'Orange'], dtype=object)"
      ]
     },
     "execution_count": 1250,
     "metadata": {},
     "output_type": "execute_result"
    }
   ],
   "source": [
    "dataf_assigment['Color'].unique()"
   ]
  },
  {
   "cell_type": "markdown",
   "metadata": {
    "id": "z3H3y2iE0Xtc"
   },
   "source": [
    "Once the process is done, we get only generic colors in the column and we can classify them with numbers."
   ]
  },
  {
   "cell_type": "markdown",
   "metadata": {
    "id": "FwMD1yax0szb"
   },
   "source": [
    "Another categorial column we have is the 'Spectral Class'"
   ]
  },
  {
   "cell_type": "code",
   "execution_count": 1251,
   "metadata": {
    "colab": {
     "base_uri": "https://localhost:8080/"
    },
    "id": "GmxuJHQti7sl",
    "outputId": "9816f235-44de-4058-ad17-826cab46273f"
   },
   "outputs": [
    {
     "data": {
      "text/plain": [
       "array(['M', 'A', 'O', 'B', 'K', 'F', 'G'], dtype=object)"
      ]
     },
     "execution_count": 1251,
     "metadata": {},
     "output_type": "execute_result"
    }
   ],
   "source": [
    "dataf_assigment['Spectral_Class'].unique()"
   ]
  },
  {
   "cell_type": "code",
   "execution_count": 1252,
   "metadata": {
    "colab": {
     "base_uri": "https://localhost:8080/",
     "height": 206
    },
    "id": "bVzkt-b5iBsx",
    "outputId": "d603384a-214a-4808-9706-a2167718a4ee"
   },
   "outputs": [
    {
     "data": {
      "text/html": [
       "<div>\n",
       "<style scoped>\n",
       "    .dataframe tbody tr th:only-of-type {\n",
       "        vertical-align: middle;\n",
       "    }\n",
       "\n",
       "    .dataframe tbody tr th {\n",
       "        vertical-align: top;\n",
       "    }\n",
       "\n",
       "    .dataframe thead th {\n",
       "        text-align: right;\n",
       "    }\n",
       "</style>\n",
       "<table border=\"1\" class=\"dataframe\">\n",
       "  <thead>\n",
       "    <tr style=\"text-align: right;\">\n",
       "      <th></th>\n",
       "      <th>Temperature</th>\n",
       "      <th>L</th>\n",
       "      <th>R</th>\n",
       "      <th>A_M</th>\n",
       "      <th>Color</th>\n",
       "      <th>Spectral_Class</th>\n",
       "      <th>Type</th>\n",
       "    </tr>\n",
       "  </thead>\n",
       "  <tbody>\n",
       "    <tr>\n",
       "      <th>0</th>\n",
       "      <td>3453</td>\n",
       "      <td>0.000621</td>\n",
       "      <td>0.0773</td>\n",
       "      <td>17.08</td>\n",
       "      <td>5</td>\n",
       "      <td>1</td>\n",
       "      <td>0</td>\n",
       "    </tr>\n",
       "    <tr>\n",
       "      <th>1</th>\n",
       "      <td>12098</td>\n",
       "      <td>689.000000</td>\n",
       "      <td>7.0100</td>\n",
       "      <td>0.02</td>\n",
       "      <td>1</td>\n",
       "      <td>6</td>\n",
       "      <td>3</td>\n",
       "    </tr>\n",
       "    <tr>\n",
       "      <th>2</th>\n",
       "      <td>2731</td>\n",
       "      <td>0.000437</td>\n",
       "      <td>0.0856</td>\n",
       "      <td>18.09</td>\n",
       "      <td>5</td>\n",
       "      <td>1</td>\n",
       "      <td>0</td>\n",
       "    </tr>\n",
       "    <tr>\n",
       "      <th>3</th>\n",
       "      <td>37800</td>\n",
       "      <td>202900.000000</td>\n",
       "      <td>6.8600</td>\n",
       "      <td>-4.56</td>\n",
       "      <td>1</td>\n",
       "      <td>3</td>\n",
       "      <td>3</td>\n",
       "    </tr>\n",
       "    <tr>\n",
       "      <th>4</th>\n",
       "      <td>8570</td>\n",
       "      <td>0.000810</td>\n",
       "      <td>0.0097</td>\n",
       "      <td>14.20</td>\n",
       "      <td>1</td>\n",
       "      <td>6</td>\n",
       "      <td>2</td>\n",
       "    </tr>\n",
       "  </tbody>\n",
       "</table>\n",
       "</div>"
      ],
      "text/plain": [
       "   Temperature              L       R    A_M  Color  Spectral_Class  Type\n",
       "0         3453       0.000621  0.0773  17.08      5               1     0\n",
       "1        12098     689.000000  7.0100   0.02      1               6     3\n",
       "2         2731       0.000437  0.0856  18.09      5               1     0\n",
       "3        37800  202900.000000  6.8600  -4.56      1               3     3\n",
       "4         8570       0.000810  0.0097  14.20      1               6     2"
      ]
     },
     "execution_count": 1252,
     "metadata": {},
     "output_type": "execute_result"
    }
   ],
   "source": [
    "# Now we have to give the colors a value\n",
    "dataf_assigment['Color'] = dataf_assigment['Color'].map({'Blue':1,\n",
    "                             'White':2,\n",
    "                             'Yellow':3,\n",
    "                             'Orange':4,\n",
    "                             'Red':5})\n",
    "#Also we have to give a value to the spectral_class\n",
    "dataf_assigment['Spectral_Class'] = dataf_assigment['Spectral_Class'].map({'M':1,\n",
    "                             'B':2,\n",
    "                             'O':3,\n",
    "                             'K':4,\n",
    "                             'F':5,\n",
    "                             'A':6,\n",
    "                             'G':7})\n",
    "dataf_assigment.head()"
   ]
  },
  {
   "cell_type": "code",
   "execution_count": 1253,
   "metadata": {
    "id": "is94pmLcgiN0"
   },
   "outputs": [],
   "source": [
    "# shuffle dataset\n",
    "dataf_assigment = dataf_assigment.sample(frac=1)\n",
    "\n",
    "# get inputs - outputs\n",
    "inputs = dataf_assigment[['Temperature','L','R','A_M','Color','Spectral_Class']]\n",
    "target = dataf_assigment[['Type']]"
   ]
  },
  {
   "cell_type": "markdown",
   "metadata": {
    "id": "aejR86PJaUxx"
   },
   "source": [
    "Normalize data"
   ]
  },
  {
   "cell_type": "code",
   "execution_count": 1254,
   "metadata": {
    "colab": {
     "base_uri": "https://localhost:8080/",
     "height": 363
    },
    "id": "XUDTSe4rhU7u",
    "outputId": "8455b08e-bdbc-456a-8718-79481ca9b794"
   },
   "outputs": [
    {
     "data": {
      "text/html": [
       "<div>\n",
       "<style scoped>\n",
       "    .dataframe tbody tr th:only-of-type {\n",
       "        vertical-align: middle;\n",
       "    }\n",
       "\n",
       "    .dataframe tbody tr th {\n",
       "        vertical-align: top;\n",
       "    }\n",
       "\n",
       "    .dataframe thead th {\n",
       "        text-align: right;\n",
       "    }\n",
       "</style>\n",
       "<table border=\"1\" class=\"dataframe\">\n",
       "  <thead>\n",
       "    <tr style=\"text-align: right;\">\n",
       "      <th></th>\n",
       "      <th>0</th>\n",
       "      <th>1</th>\n",
       "      <th>2</th>\n",
       "      <th>3</th>\n",
       "      <th>4</th>\n",
       "      <th>5</th>\n",
       "    </tr>\n",
       "  </thead>\n",
       "  <tbody>\n",
       "    <tr>\n",
       "      <th>0</th>\n",
       "      <td>0.042984</td>\n",
       "      <td>1.448047e-01</td>\n",
       "      <td>0.023090</td>\n",
       "      <td>0.160725</td>\n",
       "      <td>1.0</td>\n",
       "      <td>0.000000</td>\n",
       "    </tr>\n",
       "    <tr>\n",
       "      <th>1</th>\n",
       "      <td>0.043772</td>\n",
       "      <td>1.483365e-01</td>\n",
       "      <td>0.576852</td>\n",
       "      <td>0.034709</td>\n",
       "      <td>1.0</td>\n",
       "      <td>0.000000</td>\n",
       "    </tr>\n",
       "    <tr>\n",
       "      <th>2</th>\n",
       "      <td>0.703108</td>\n",
       "      <td>1.976643e-02</td>\n",
       "      <td>0.003280</td>\n",
       "      <td>0.244841</td>\n",
       "      <td>0.0</td>\n",
       "      <td>0.166667</td>\n",
       "    </tr>\n",
       "    <tr>\n",
       "      <th>3</th>\n",
       "      <td>0.973726</td>\n",
       "      <td>2.401639e-01</td>\n",
       "      <td>0.005436</td>\n",
       "      <td>0.225766</td>\n",
       "      <td>0.0</td>\n",
       "      <td>0.333333</td>\n",
       "    </tr>\n",
       "    <tr>\n",
       "      <th>4</th>\n",
       "      <td>0.028980</td>\n",
       "      <td>4.944550e-10</td>\n",
       "      <td>0.000075</td>\n",
       "      <td>0.891807</td>\n",
       "      <td>1.0</td>\n",
       "      <td>0.000000</td>\n",
       "    </tr>\n",
       "    <tr>\n",
       "      <th>5</th>\n",
       "      <td>0.017919</td>\n",
       "      <td>6.121824e-10</td>\n",
       "      <td>0.000046</td>\n",
       "      <td>0.773296</td>\n",
       "      <td>1.0</td>\n",
       "      <td>0.000000</td>\n",
       "    </tr>\n",
       "    <tr>\n",
       "      <th>6</th>\n",
       "      <td>0.040750</td>\n",
       "      <td>3.178640e-01</td>\n",
       "      <td>0.780086</td>\n",
       "      <td>0.078799</td>\n",
       "      <td>1.0</td>\n",
       "      <td>0.000000</td>\n",
       "    </tr>\n",
       "    <tr>\n",
       "      <th>7</th>\n",
       "      <td>0.039227</td>\n",
       "      <td>6.945916e-10</td>\n",
       "      <td>0.000093</td>\n",
       "      <td>0.902439</td>\n",
       "      <td>1.0</td>\n",
       "      <td>0.000000</td>\n",
       "    </tr>\n",
       "    <tr>\n",
       "      <th>8</th>\n",
       "      <td>0.017367</td>\n",
       "      <td>3.767276e-10</td>\n",
       "      <td>0.000045</td>\n",
       "      <td>0.916823</td>\n",
       "      <td>1.0</td>\n",
       "      <td>0.000000</td>\n",
       "    </tr>\n",
       "    <tr>\n",
       "      <th>9</th>\n",
       "      <td>0.020809</td>\n",
       "      <td>4.202868e-10</td>\n",
       "      <td>0.000040</td>\n",
       "      <td>0.938399</td>\n",
       "      <td>1.0</td>\n",
       "      <td>0.000000</td>\n",
       "    </tr>\n",
       "  </tbody>\n",
       "</table>\n",
       "</div>"
      ],
      "text/plain": [
       "          0             1         2         3    4         5\n",
       "0  0.042984  1.448047e-01  0.023090  0.160725  1.0  0.000000\n",
       "1  0.043772  1.483365e-01  0.576852  0.034709  1.0  0.000000\n",
       "2  0.703108  1.976643e-02  0.003280  0.244841  0.0  0.166667\n",
       "3  0.973726  2.401639e-01  0.005436  0.225766  0.0  0.333333\n",
       "4  0.028980  4.944550e-10  0.000075  0.891807  1.0  0.000000\n",
       "5  0.017919  6.121824e-10  0.000046  0.773296  1.0  0.000000\n",
       "6  0.040750  3.178640e-01  0.780086  0.078799  1.0  0.000000\n",
       "7  0.039227  6.945916e-10  0.000093  0.902439  1.0  0.000000\n",
       "8  0.017367  3.767276e-10  0.000045  0.916823  1.0  0.000000\n",
       "9  0.020809  4.202868e-10  0.000040  0.938399  1.0  0.000000"
      ]
     },
     "execution_count": 1254,
     "metadata": {},
     "output_type": "execute_result"
    }
   ],
   "source": [
    "# scale input data\n",
    "x = inputs.values #returns a numpy array\n",
    "min_max_scaler = MinMaxScaler()\n",
    "x_scaled = min_max_scaler.fit_transform(x)\n",
    "inputs = pd.DataFrame(x_scaled)\n",
    "inputs[0:10]"
   ]
  },
  {
   "cell_type": "code",
   "execution_count": 1255,
   "metadata": {
    "colab": {
     "base_uri": "https://localhost:8080/",
     "height": 206
    },
    "id": "Bl6fOtssj-KS",
    "outputId": "7c93ed87-e9e4-4ac4-8279-5a0121d28f1c"
   },
   "outputs": [
    {
     "data": {
      "text/html": [
       "<div>\n",
       "<style scoped>\n",
       "    .dataframe tbody tr th:only-of-type {\n",
       "        vertical-align: middle;\n",
       "    }\n",
       "\n",
       "    .dataframe tbody tr th {\n",
       "        vertical-align: top;\n",
       "    }\n",
       "\n",
       "    .dataframe thead th {\n",
       "        text-align: right;\n",
       "    }\n",
       "</style>\n",
       "<table border=\"1\" class=\"dataframe\">\n",
       "  <thead>\n",
       "    <tr style=\"text-align: right;\">\n",
       "      <th></th>\n",
       "      <th>Type</th>\n",
       "    </tr>\n",
       "  </thead>\n",
       "  <tbody>\n",
       "    <tr>\n",
       "      <th>59</th>\n",
       "      <td>4</td>\n",
       "    </tr>\n",
       "    <tr>\n",
       "      <th>5</th>\n",
       "      <td>5</td>\n",
       "    </tr>\n",
       "    <tr>\n",
       "      <th>20</th>\n",
       "      <td>3</td>\n",
       "    </tr>\n",
       "    <tr>\n",
       "      <th>198</th>\n",
       "      <td>3</td>\n",
       "    </tr>\n",
       "    <tr>\n",
       "      <th>52</th>\n",
       "      <td>0</td>\n",
       "    </tr>\n",
       "  </tbody>\n",
       "</table>\n",
       "</div>"
      ],
      "text/plain": [
       "     Type\n",
       "59      4\n",
       "5       5\n",
       "20      3\n",
       "198     3\n",
       "52      0"
      ]
     },
     "execution_count": 1255,
     "metadata": {},
     "output_type": "execute_result"
    }
   ],
   "source": [
    "#Hot enconde outputs\n",
    "target.head()"
   ]
  },
  {
   "cell_type": "code",
   "execution_count": 1256,
   "metadata": {
    "colab": {
     "base_uri": "https://localhost:8080/",
     "height": 261
    },
    "id": "xHKxeZW9kHAH",
    "outputId": "ccba1f04-d7e8-4d12-f6a4-5c2597308e59"
   },
   "outputs": [
    {
     "name": "stderr",
     "output_type": "stream",
     "text": [
      "D:\\.Programas\\anaconda\\lib\\site-packages\\sklearn\\utils\\validation.py:72: DataConversionWarning: A column-vector y was passed when a 1d array was expected. Please change the shape of y to (n_samples, ), for example using ravel().\n",
      "  return f(**kwargs)\n"
     ]
    },
    {
     "data": {
      "text/html": [
       "<div>\n",
       "<style scoped>\n",
       "    .dataframe tbody tr th:only-of-type {\n",
       "        vertical-align: middle;\n",
       "    }\n",
       "\n",
       "    .dataframe tbody tr th {\n",
       "        vertical-align: top;\n",
       "    }\n",
       "\n",
       "    .dataframe thead th {\n",
       "        text-align: right;\n",
       "    }\n",
       "</style>\n",
       "<table border=\"1\" class=\"dataframe\">\n",
       "  <thead>\n",
       "    <tr style=\"text-align: right;\">\n",
       "      <th></th>\n",
       "      <th>0</th>\n",
       "      <th>1</th>\n",
       "      <th>2</th>\n",
       "      <th>3</th>\n",
       "      <th>4</th>\n",
       "      <th>5</th>\n",
       "    </tr>\n",
       "  </thead>\n",
       "  <tbody>\n",
       "    <tr>\n",
       "      <th>0</th>\n",
       "      <td>0.0</td>\n",
       "      <td>0.0</td>\n",
       "      <td>0.0</td>\n",
       "      <td>0.0</td>\n",
       "      <td>1.0</td>\n",
       "      <td>0.0</td>\n",
       "    </tr>\n",
       "    <tr>\n",
       "      <th>1</th>\n",
       "      <td>0.0</td>\n",
       "      <td>0.0</td>\n",
       "      <td>0.0</td>\n",
       "      <td>0.0</td>\n",
       "      <td>0.0</td>\n",
       "      <td>1.0</td>\n",
       "    </tr>\n",
       "    <tr>\n",
       "      <th>2</th>\n",
       "      <td>0.0</td>\n",
       "      <td>0.0</td>\n",
       "      <td>0.0</td>\n",
       "      <td>1.0</td>\n",
       "      <td>0.0</td>\n",
       "      <td>0.0</td>\n",
       "    </tr>\n",
       "    <tr>\n",
       "      <th>3</th>\n",
       "      <td>0.0</td>\n",
       "      <td>0.0</td>\n",
       "      <td>0.0</td>\n",
       "      <td>1.0</td>\n",
       "      <td>0.0</td>\n",
       "      <td>0.0</td>\n",
       "    </tr>\n",
       "    <tr>\n",
       "      <th>4</th>\n",
       "      <td>1.0</td>\n",
       "      <td>0.0</td>\n",
       "      <td>0.0</td>\n",
       "      <td>0.0</td>\n",
       "      <td>0.0</td>\n",
       "      <td>0.0</td>\n",
       "    </tr>\n",
       "  </tbody>\n",
       "</table>\n",
       "</div>"
      ],
      "text/plain": [
       "     0    1    2    3    4    5\n",
       "0  0.0  0.0  0.0  0.0  1.0  0.0\n",
       "1  0.0  0.0  0.0  0.0  0.0  1.0\n",
       "2  0.0  0.0  0.0  1.0  0.0  0.0\n",
       "3  0.0  0.0  0.0  1.0  0.0  0.0\n",
       "4  1.0  0.0  0.0  0.0  0.0  0.0"
      ]
     },
     "execution_count": 1256,
     "metadata": {},
     "output_type": "execute_result"
    }
   ],
   "source": [
    "#integer encode\n",
    "label_encoder = LabelEncoder()\n",
    "integer_encoded = label_encoder.fit_transform(target)\n",
    "\n",
    "# binary encode\n",
    "onehot_encoder = OneHotEncoder(sparse=False)\n",
    "integer_encoded = integer_encoded.reshape(len(integer_encoded), 1)\n",
    "onehot_encoded = onehot_encoder.fit_transform(integer_encoded)\n",
    "target = pd.DataFrame(onehot_encoded)\n",
    "\n",
    "target.head()"
   ]
  },
  {
   "cell_type": "code",
   "execution_count": 1257,
   "metadata": {
    "colab": {
     "base_uri": "https://localhost:8080/"
    },
    "id": "zE4a1BHjkSnm",
    "outputId": "018c722f-70b1-4b3e-8c87-70d44fa3cfa5"
   },
   "outputs": [
    {
     "name": "stdout",
     "output_type": "stream",
     "text": [
      "Training DS size: 140\n",
      "Test DS size: 40\n",
      "Validation DS size 20\n"
     ]
    }
   ],
   "source": [
    "\n",
    "# define training dataset size\n",
    "ds_size = inputs.shape[0]\n",
    "train_size_percentage = .7\n",
    "test_size_percentage = .2\n",
    "\n",
    "training_size = int(ds_size * train_size_percentage)\n",
    "test_size = int(ds_size * test_size_percentage)\n",
    "\n",
    "# get training data\n",
    "input_training = inputs[:training_size]\n",
    "target_training = target[:training_size]\n",
    "\n",
    "# get test data\n",
    "input_test = inputs[training_size:(training_size + test_size)]\n",
    "target_test = target[training_size:(training_size + test_size)]\n",
    "\n",
    "# get validation data\n",
    "input_validation = inputs[(training_size + test_size):]\n",
    "target_validation = target[(training_size + test_size):]\n",
    "\n",
    "# used during training\n",
    "print('Training DS size:', input_training.shape[0])\n",
    "print('Test DS size:', input_test.shape[0])\n",
    "\n",
    "# used during validation\n",
    "print('Validation DS size', input_validation.shape[0])"
   ]
  },
  {
   "cell_type": "code",
   "execution_count": 1258,
   "metadata": {
    "colab": {
     "base_uri": "https://localhost:8080/",
     "height": 589
    },
    "id": "ZuTLtvl2s55g",
    "outputId": "17e4fdfc-a9eb-4660-92e2-2a0caa97037b"
   },
   "outputs": [
    {
     "name": "stdout",
     "output_type": "stream",
     "text": [
      "inputs:\n",
      "          0             1         2         3    4         5\n",
      "0  0.042984  1.448047e-01  0.023090  0.160725  1.0  0.000000\n",
      "1  0.043772  1.483365e-01  0.576852  0.034709  1.0  0.000000\n",
      "2  0.703108  1.976643e-02  0.003280  0.244841  0.0  0.166667\n",
      "3  0.973726  2.401639e-01  0.005436  0.225766  0.0  0.333333\n",
      "4  0.028980  4.944550e-10  0.000075  0.891807  1.0  0.000000\n",
      "5  0.017919  6.121824e-10  0.000046  0.773296  1.0  0.000000\n",
      "6  0.040750  3.178640e-01  0.780086  0.078799  1.0  0.000000\n",
      "7  0.039227  6.945916e-10  0.000093  0.902439  1.0  0.000000\n",
      "8  0.017367  3.767276e-10  0.000045  0.916823  1.0  0.000000\n",
      "9  0.020809  4.202868e-10  0.000040  0.938399  1.0  0.000000\n",
      "target\n"
     ]
    },
    {
     "data": {
      "text/html": [
       "<div>\n",
       "<style scoped>\n",
       "    .dataframe tbody tr th:only-of-type {\n",
       "        vertical-align: middle;\n",
       "    }\n",
       "\n",
       "    .dataframe tbody tr th {\n",
       "        vertical-align: top;\n",
       "    }\n",
       "\n",
       "    .dataframe thead th {\n",
       "        text-align: right;\n",
       "    }\n",
       "</style>\n",
       "<table border=\"1\" class=\"dataframe\">\n",
       "  <thead>\n",
       "    <tr style=\"text-align: right;\">\n",
       "      <th></th>\n",
       "      <th>0</th>\n",
       "      <th>1</th>\n",
       "      <th>2</th>\n",
       "      <th>3</th>\n",
       "      <th>4</th>\n",
       "      <th>5</th>\n",
       "    </tr>\n",
       "  </thead>\n",
       "  <tbody>\n",
       "    <tr>\n",
       "      <th>0</th>\n",
       "      <td>0.0</td>\n",
       "      <td>0.0</td>\n",
       "      <td>0.0</td>\n",
       "      <td>0.0</td>\n",
       "      <td>1.0</td>\n",
       "      <td>0.0</td>\n",
       "    </tr>\n",
       "    <tr>\n",
       "      <th>1</th>\n",
       "      <td>0.0</td>\n",
       "      <td>0.0</td>\n",
       "      <td>0.0</td>\n",
       "      <td>0.0</td>\n",
       "      <td>0.0</td>\n",
       "      <td>1.0</td>\n",
       "    </tr>\n",
       "    <tr>\n",
       "      <th>2</th>\n",
       "      <td>0.0</td>\n",
       "      <td>0.0</td>\n",
       "      <td>0.0</td>\n",
       "      <td>1.0</td>\n",
       "      <td>0.0</td>\n",
       "      <td>0.0</td>\n",
       "    </tr>\n",
       "    <tr>\n",
       "      <th>3</th>\n",
       "      <td>0.0</td>\n",
       "      <td>0.0</td>\n",
       "      <td>0.0</td>\n",
       "      <td>1.0</td>\n",
       "      <td>0.0</td>\n",
       "      <td>0.0</td>\n",
       "    </tr>\n",
       "    <tr>\n",
       "      <th>4</th>\n",
       "      <td>1.0</td>\n",
       "      <td>0.0</td>\n",
       "      <td>0.0</td>\n",
       "      <td>0.0</td>\n",
       "      <td>0.0</td>\n",
       "      <td>0.0</td>\n",
       "    </tr>\n",
       "    <tr>\n",
       "      <th>5</th>\n",
       "      <td>0.0</td>\n",
       "      <td>1.0</td>\n",
       "      <td>0.0</td>\n",
       "      <td>0.0</td>\n",
       "      <td>0.0</td>\n",
       "      <td>0.0</td>\n",
       "    </tr>\n",
       "    <tr>\n",
       "      <th>6</th>\n",
       "      <td>0.0</td>\n",
       "      <td>0.0</td>\n",
       "      <td>0.0</td>\n",
       "      <td>0.0</td>\n",
       "      <td>0.0</td>\n",
       "      <td>1.0</td>\n",
       "    </tr>\n",
       "    <tr>\n",
       "      <th>7</th>\n",
       "      <td>1.0</td>\n",
       "      <td>0.0</td>\n",
       "      <td>0.0</td>\n",
       "      <td>0.0</td>\n",
       "      <td>0.0</td>\n",
       "      <td>0.0</td>\n",
       "    </tr>\n",
       "    <tr>\n",
       "      <th>8</th>\n",
       "      <td>1.0</td>\n",
       "      <td>0.0</td>\n",
       "      <td>0.0</td>\n",
       "      <td>0.0</td>\n",
       "      <td>0.0</td>\n",
       "      <td>0.0</td>\n",
       "    </tr>\n",
       "    <tr>\n",
       "      <th>9</th>\n",
       "      <td>1.0</td>\n",
       "      <td>0.0</td>\n",
       "      <td>0.0</td>\n",
       "      <td>0.0</td>\n",
       "      <td>0.0</td>\n",
       "      <td>0.0</td>\n",
       "    </tr>\n",
       "  </tbody>\n",
       "</table>\n",
       "</div>"
      ],
      "text/plain": [
       "     0    1    2    3    4    5\n",
       "0  0.0  0.0  0.0  0.0  1.0  0.0\n",
       "1  0.0  0.0  0.0  0.0  0.0  1.0\n",
       "2  0.0  0.0  0.0  1.0  0.0  0.0\n",
       "3  0.0  0.0  0.0  1.0  0.0  0.0\n",
       "4  1.0  0.0  0.0  0.0  0.0  0.0\n",
       "5  0.0  1.0  0.0  0.0  0.0  0.0\n",
       "6  0.0  0.0  0.0  0.0  0.0  1.0\n",
       "7  1.0  0.0  0.0  0.0  0.0  0.0\n",
       "8  1.0  0.0  0.0  0.0  0.0  0.0\n",
       "9  1.0  0.0  0.0  0.0  0.0  0.0"
      ]
     },
     "execution_count": 1258,
     "metadata": {},
     "output_type": "execute_result"
    }
   ],
   "source": [
    "print('inputs:')\n",
    "print(inputs[:10])\n",
    "print('target')\n",
    "target[:10]"
   ]
  },
  {
   "cell_type": "markdown",
   "metadata": {
    "id": "uowSvlVvpOQM"
   },
   "source": [
    "\n",
    "Train Neural Network "
   ]
  },
  {
   "cell_type": "markdown",
   "metadata": {
    "id": "vPM4ft3mpWy5"
   },
   "source": [
    "Define Neural Network Architecture.\n",
    "\n",
    "*   For this part there is an input shape of 6 because there are 6 columns with values that are the inputs.\n",
    "*   In this Architecture there a 3 hidden layers the first one with 32 neourons, a second with 8 neourons and a third one with 8 neourons all using sigmoid function as activation function.\n",
    "*   And ther 6 different outputs that represent the values that a star type represents. (0.Red Dwarf 1.Brown Dwarf 2.White Dwarf 3.Main Sequence 4.Super Giants 5.Hyper Giants ).e"
   ]
  },
  {
   "cell_type": "code",
   "execution_count": 1269,
   "metadata": {
    "id": "A5cI2zy7pRPv"
   },
   "outputs": [],
   "source": [
    "# neural network\n",
    "model = models.Sequential()\n",
    "\n",
    "# input layer\n",
    "model.add(layers.Dense(32, activation='relu', input_shape=(6,)))\n",
    "\n",
    "# hidden layers\n",
    "model.add(layers.Dense(8, activation='relu'))\n",
    "model.add(layers.Dense(8, activation='relu'))\n",
    "\n",
    "# output layers\n",
    "model.add(layers.Dense(6, activation='sigmoid'))\n",
    "    \n",
    "rmsprop = optimizers.RMSprop(learning_rate=0.01)\n",
    "#learning_rate changed from 0.1 to 0.01\n",
    "model.compile(optimizer=rmsprop, loss='mse', metrics=[metrics.categorical_accuracy])"
   ]
  },
  {
   "cell_type": "code",
   "execution_count": 1270,
   "metadata": {
    "colab": {
     "base_uri": "https://localhost:8080/"
    },
    "id": "3Ig7NpV9qWNV",
    "outputId": "e95d7841-3a3b-4401-9113-3726d638e950"
   },
   "outputs": [
    {
     "name": "stdout",
     "output_type": "stream",
     "text": [
      "Epoch 1/250\n",
      "3/3 [==============================] - 0s 46ms/step - loss: 0.2444 - categorical_accuracy: 0.2714 - val_loss: 0.2137 - val_categorical_accuracy: 0.2250\n",
      "Epoch 2/250\n",
      "3/3 [==============================] - 0s 9ms/step - loss: 0.2007 - categorical_accuracy: 0.3286 - val_loss: 0.1745 - val_categorical_accuracy: 0.1750\n",
      "Epoch 3/250\n",
      "3/3 [==============================] - 0s 9ms/step - loss: 0.1591 - categorical_accuracy: 0.3286 - val_loss: 0.1523 - val_categorical_accuracy: 0.2000\n",
      "Epoch 4/250\n",
      "3/3 [==============================] - 0s 9ms/step - loss: 0.1359 - categorical_accuracy: 0.3429 - val_loss: 0.1389 - val_categorical_accuracy: 0.2000\n",
      "Epoch 5/250\n",
      "3/3 [==============================] - 0s 8ms/step - loss: 0.1255 - categorical_accuracy: 0.3500 - val_loss: 0.1342 - val_categorical_accuracy: 0.2500\n",
      "Epoch 6/250\n",
      "3/3 [==============================] - 0s 9ms/step - loss: 0.1200 - categorical_accuracy: 0.4357 - val_loss: 0.1284 - val_categorical_accuracy: 0.3500\n",
      "Epoch 7/250\n",
      "3/3 [==============================] - 0s 9ms/step - loss: 0.1164 - categorical_accuracy: 0.4643 - val_loss: 0.1285 - val_categorical_accuracy: 0.3750\n",
      "Epoch 8/250\n",
      "3/3 [==============================] - 0s 9ms/step - loss: 0.1135 - categorical_accuracy: 0.5000 - val_loss: 0.1223 - val_categorical_accuracy: 0.3500\n",
      "Epoch 9/250\n",
      "3/3 [==============================] - 0s 9ms/step - loss: 0.1100 - categorical_accuracy: 0.5071 - val_loss: 0.1191 - val_categorical_accuracy: 0.3500\n",
      "Epoch 10/250\n",
      "3/3 [==============================] - 0s 9ms/step - loss: 0.1077 - categorical_accuracy: 0.5143 - val_loss: 0.1147 - val_categorical_accuracy: 0.3750\n",
      "Epoch 11/250\n",
      "3/3 [==============================] - 0s 8ms/step - loss: 0.1052 - categorical_accuracy: 0.5643 - val_loss: 0.1148 - val_categorical_accuracy: 0.4250\n",
      "Epoch 12/250\n",
      "3/3 [==============================] - 0s 9ms/step - loss: 0.1040 - categorical_accuracy: 0.5500 - val_loss: 0.1088 - val_categorical_accuracy: 0.5750\n",
      "Epoch 13/250\n",
      "3/3 [==============================] - 0s 9ms/step - loss: 0.1001 - categorical_accuracy: 0.6286 - val_loss: 0.1061 - val_categorical_accuracy: 0.4750\n",
      "Epoch 14/250\n",
      "3/3 [==============================] - 0s 8ms/step - loss: 0.0971 - categorical_accuracy: 0.5429 - val_loss: 0.1044 - val_categorical_accuracy: 0.5750\n",
      "Epoch 15/250\n",
      "3/3 [==============================] - 0s 9ms/step - loss: 0.0964 - categorical_accuracy: 0.6000 - val_loss: 0.1051 - val_categorical_accuracy: 0.6250\n",
      "Epoch 16/250\n",
      "3/3 [==============================] - 0s 8ms/step - loss: 0.0956 - categorical_accuracy: 0.6429 - val_loss: 0.1000 - val_categorical_accuracy: 0.6250\n",
      "Epoch 17/250\n",
      "3/3 [==============================] - 0s 9ms/step - loss: 0.0912 - categorical_accuracy: 0.6357 - val_loss: 0.0960 - val_categorical_accuracy: 0.4250\n",
      "Epoch 18/250\n",
      "3/3 [==============================] - 0s 9ms/step - loss: 0.0858 - categorical_accuracy: 0.5429 - val_loss: 0.0914 - val_categorical_accuracy: 0.5500\n",
      "Epoch 19/250\n",
      "3/3 [==============================] - 0s 9ms/step - loss: 0.0849 - categorical_accuracy: 0.6286 - val_loss: 0.0856 - val_categorical_accuracy: 0.6500\n",
      "Epoch 20/250\n",
      "3/3 [==============================] - 0s 9ms/step - loss: 0.0779 - categorical_accuracy: 0.6500 - val_loss: 0.0806 - val_categorical_accuracy: 0.6500\n",
      "Epoch 21/250\n",
      "3/3 [==============================] - 0s 9ms/step - loss: 0.0762 - categorical_accuracy: 0.6571 - val_loss: 0.0818 - val_categorical_accuracy: 0.6250\n",
      "Epoch 22/250\n",
      "3/3 [==============================] - 0s 8ms/step - loss: 0.0729 - categorical_accuracy: 0.6357 - val_loss: 0.0800 - val_categorical_accuracy: 0.6750\n",
      "Epoch 23/250\n",
      "3/3 [==============================] - 0s 10ms/step - loss: 0.0713 - categorical_accuracy: 0.7429 - val_loss: 0.0752 - val_categorical_accuracy: 0.7000\n",
      "Epoch 24/250\n",
      "3/3 [==============================] - 0s 9ms/step - loss: 0.0672 - categorical_accuracy: 0.6786 - val_loss: 0.0767 - val_categorical_accuracy: 0.6750\n",
      "Epoch 25/250\n",
      "3/3 [==============================] - 0s 8ms/step - loss: 0.0683 - categorical_accuracy: 0.6571 - val_loss: 0.0740 - val_categorical_accuracy: 0.6750\n",
      "Epoch 26/250\n",
      "3/3 [==============================] - 0s 9ms/step - loss: 0.0656 - categorical_accuracy: 0.6929 - val_loss: 0.0669 - val_categorical_accuracy: 0.7250\n",
      "Epoch 27/250\n",
      "3/3 [==============================] - 0s 8ms/step - loss: 0.0598 - categorical_accuracy: 0.8071 - val_loss: 0.0739 - val_categorical_accuracy: 0.7750\n",
      "Epoch 28/250\n",
      "3/3 [==============================] - 0s 9ms/step - loss: 0.0662 - categorical_accuracy: 0.6786 - val_loss: 0.0688 - val_categorical_accuracy: 0.7000\n",
      "Epoch 29/250\n",
      "3/3 [==============================] - 0s 9ms/step - loss: 0.0598 - categorical_accuracy: 0.7143 - val_loss: 0.0746 - val_categorical_accuracy: 0.6750\n",
      "Epoch 30/250\n",
      "3/3 [==============================] - 0s 9ms/step - loss: 0.0608 - categorical_accuracy: 0.7071 - val_loss: 0.0645 - val_categorical_accuracy: 0.8250\n",
      "Epoch 31/250\n",
      "3/3 [==============================] - 0s 8ms/step - loss: 0.0561 - categorical_accuracy: 0.9143 - val_loss: 0.0644 - val_categorical_accuracy: 0.8000\n",
      "Epoch 32/250\n",
      "3/3 [==============================] - 0s 9ms/step - loss: 0.0526 - categorical_accuracy: 0.8929 - val_loss: 0.0650 - val_categorical_accuracy: 0.7000\n",
      "Epoch 33/250\n",
      "3/3 [==============================] - 0s 9ms/step - loss: 0.0534 - categorical_accuracy: 0.7643 - val_loss: 0.0679 - val_categorical_accuracy: 0.6000\n",
      "Epoch 34/250\n",
      "3/3 [==============================] - 0s 8ms/step - loss: 0.0502 - categorical_accuracy: 0.8000 - val_loss: 0.0617 - val_categorical_accuracy: 0.7250\n",
      "Epoch 35/250\n",
      "3/3 [==============================] - 0s 9ms/step - loss: 0.0531 - categorical_accuracy: 0.7571 - val_loss: 0.0591 - val_categorical_accuracy: 0.8000\n",
      "Epoch 36/250\n",
      "3/3 [==============================] - 0s 9ms/step - loss: 0.0485 - categorical_accuracy: 0.8429 - val_loss: 0.0686 - val_categorical_accuracy: 0.7000\n",
      "Epoch 37/250\n",
      "3/3 [==============================] - 0s 8ms/step - loss: 0.0503 - categorical_accuracy: 0.7929 - val_loss: 0.0639 - val_categorical_accuracy: 0.6250\n",
      "Epoch 38/250\n",
      "3/3 [==============================] - 0s 9ms/step - loss: 0.0469 - categorical_accuracy: 0.8000 - val_loss: 0.0459 - val_categorical_accuracy: 0.9750\n",
      "Epoch 39/250\n",
      "3/3 [==============================] - 0s 9ms/step - loss: 0.0415 - categorical_accuracy: 0.9643 - val_loss: 0.0503 - val_categorical_accuracy: 0.7500\n",
      "Epoch 40/250\n",
      "3/3 [==============================] - 0s 9ms/step - loss: 0.0417 - categorical_accuracy: 0.8714 - val_loss: 0.0500 - val_categorical_accuracy: 0.7250\n",
      "Epoch 41/250\n",
      "3/3 [==============================] - 0s 8ms/step - loss: 0.0418 - categorical_accuracy: 0.8429 - val_loss: 0.0463 - val_categorical_accuracy: 0.7750\n",
      "Epoch 42/250\n",
      "3/3 [==============================] - 0s 9ms/step - loss: 0.0414 - categorical_accuracy: 0.8143 - val_loss: 0.0435 - val_categorical_accuracy: 0.8000\n",
      "Epoch 43/250\n",
      "3/3 [==============================] - 0s 9ms/step - loss: 0.0426 - categorical_accuracy: 0.7571 - val_loss: 0.0347 - val_categorical_accuracy: 0.9500\n",
      "Epoch 44/250\n",
      "3/3 [==============================] - 0s 9ms/step - loss: 0.0390 - categorical_accuracy: 0.8143 - val_loss: 0.0363 - val_categorical_accuracy: 0.9000\n",
      "Epoch 45/250\n",
      "3/3 [==============================] - 0s 9ms/step - loss: 0.0380 - categorical_accuracy: 0.8571 - val_loss: 0.0419 - val_categorical_accuracy: 0.9000\n",
      "Epoch 46/250\n",
      "3/3 [==============================] - 0s 9ms/step - loss: 0.0366 - categorical_accuracy: 0.9500 - val_loss: 0.0406 - val_categorical_accuracy: 0.8250\n",
      "Epoch 47/250\n",
      "3/3 [==============================] - 0s 8ms/step - loss: 0.0326 - categorical_accuracy: 0.9000 - val_loss: 0.0385 - val_categorical_accuracy: 0.8750\n",
      "Epoch 48/250\n",
      "3/3 [==============================] - 0s 9ms/step - loss: 0.0369 - categorical_accuracy: 0.9000 - val_loss: 0.0390 - val_categorical_accuracy: 0.8000\n",
      "Epoch 49/250\n",
      "3/3 [==============================] - 0s 8ms/step - loss: 0.0377 - categorical_accuracy: 0.8429 - val_loss: 0.0341 - val_categorical_accuracy: 0.9250\n",
      "Epoch 50/250\n",
      "3/3 [==============================] - 0s 9ms/step - loss: 0.0378 - categorical_accuracy: 0.8000 - val_loss: 0.0486 - val_categorical_accuracy: 0.9000\n"
     ]
    },
    {
     "name": "stdout",
     "output_type": "stream",
     "text": [
      "Epoch 51/250\n",
      "3/3 [==============================] - 0s 8ms/step - loss: 0.0367 - categorical_accuracy: 0.8857 - val_loss: 0.0486 - val_categorical_accuracy: 0.7500\n",
      "Epoch 52/250\n",
      "3/3 [==============================] - 0s 9ms/step - loss: 0.0361 - categorical_accuracy: 0.8429 - val_loss: 0.0340 - val_categorical_accuracy: 0.8500\n",
      "Epoch 53/250\n",
      "3/3 [==============================] - 0s 9ms/step - loss: 0.0307 - categorical_accuracy: 0.9214 - val_loss: 0.0300 - val_categorical_accuracy: 0.9000\n",
      "Epoch 54/250\n",
      "3/3 [==============================] - 0s 8ms/step - loss: 0.0273 - categorical_accuracy: 0.9357 - val_loss: 0.0259 - val_categorical_accuracy: 0.9750\n",
      "Epoch 55/250\n",
      "3/3 [==============================] - 0s 9ms/step - loss: 0.0300 - categorical_accuracy: 0.8714 - val_loss: 0.0388 - val_categorical_accuracy: 0.8750\n",
      "Epoch 56/250\n",
      "3/3 [==============================] - 0s 9ms/step - loss: 0.0366 - categorical_accuracy: 0.8714 - val_loss: 0.0320 - val_categorical_accuracy: 0.8750\n",
      "Epoch 57/250\n",
      "3/3 [==============================] - 0s 9ms/step - loss: 0.0277 - categorical_accuracy: 0.9214 - val_loss: 0.0383 - val_categorical_accuracy: 0.8250\n",
      "Epoch 58/250\n",
      "3/3 [==============================] - 0s 9ms/step - loss: 0.0291 - categorical_accuracy: 0.9357 - val_loss: 0.0201 - val_categorical_accuracy: 0.9750\n",
      "Epoch 59/250\n",
      "3/3 [==============================] - 0s 8ms/step - loss: 0.0262 - categorical_accuracy: 0.9286 - val_loss: 0.0328 - val_categorical_accuracy: 0.9750\n",
      "Epoch 60/250\n",
      "3/3 [==============================] - 0s 8ms/step - loss: 0.0316 - categorical_accuracy: 0.9429 - val_loss: 0.0433 - val_categorical_accuracy: 0.7250\n",
      "Epoch 61/250\n",
      "3/3 [==============================] - 0s 9ms/step - loss: 0.0313 - categorical_accuracy: 0.8571 - val_loss: 0.0196 - val_categorical_accuracy: 1.0000\n",
      "Epoch 62/250\n",
      "3/3 [==============================] - 0s 9ms/step - loss: 0.0232 - categorical_accuracy: 0.9714 - val_loss: 0.0375 - val_categorical_accuracy: 0.7750\n",
      "Epoch 63/250\n",
      "3/3 [==============================] - 0s 9ms/step - loss: 0.0234 - categorical_accuracy: 0.9286 - val_loss: 0.0375 - val_categorical_accuracy: 0.7750\n",
      "Epoch 64/250\n",
      "3/3 [==============================] - 0s 8ms/step - loss: 0.0249 - categorical_accuracy: 0.9000 - val_loss: 0.0209 - val_categorical_accuracy: 1.0000\n",
      "Epoch 65/250\n",
      "3/3 [==============================] - 0s 8ms/step - loss: 0.0297 - categorical_accuracy: 0.9000 - val_loss: 0.0274 - val_categorical_accuracy: 0.9500\n",
      "Epoch 66/250\n",
      "3/3 [==============================] - 0s 9ms/step - loss: 0.0223 - categorical_accuracy: 0.9857 - val_loss: 0.0232 - val_categorical_accuracy: 0.9000\n",
      "Epoch 67/250\n",
      "3/3 [==============================] - 0s 8ms/step - loss: 0.0215 - categorical_accuracy: 0.9571 - val_loss: 0.0175 - val_categorical_accuracy: 0.9750\n",
      "Epoch 68/250\n",
      "3/3 [==============================] - 0s 8ms/step - loss: 0.0185 - categorical_accuracy: 0.9929 - val_loss: 0.0153 - val_categorical_accuracy: 0.9750\n",
      "Epoch 69/250\n",
      "3/3 [==============================] - 0s 9ms/step - loss: 0.0189 - categorical_accuracy: 0.9786 - val_loss: 0.0191 - val_categorical_accuracy: 0.9500\n",
      "Epoch 70/250\n",
      "3/3 [==============================] - 0s 8ms/step - loss: 0.0252 - categorical_accuracy: 0.9286 - val_loss: 0.0264 - val_categorical_accuracy: 0.9000\n",
      "Epoch 71/250\n",
      "3/3 [==============================] - 0s 8ms/step - loss: 0.0216 - categorical_accuracy: 0.8929 - val_loss: 0.0129 - val_categorical_accuracy: 1.0000\n",
      "Epoch 72/250\n",
      "3/3 [==============================] - 0s 8ms/step - loss: 0.0208 - categorical_accuracy: 0.9214 - val_loss: 0.0166 - val_categorical_accuracy: 0.9250\n",
      "Epoch 73/250\n",
      "3/3 [==============================] - 0s 9ms/step - loss: 0.0189 - categorical_accuracy: 0.9429 - val_loss: 0.0114 - val_categorical_accuracy: 1.0000\n",
      "Epoch 74/250\n",
      "3/3 [==============================] - 0s 8ms/step - loss: 0.0205 - categorical_accuracy: 0.9143 - val_loss: 0.0162 - val_categorical_accuracy: 0.9250\n",
      "Epoch 75/250\n",
      "3/3 [==============================] - 0s 9ms/step - loss: 0.0144 - categorical_accuracy: 0.9929 - val_loss: 0.0157 - val_categorical_accuracy: 0.9500\n",
      "Epoch 76/250\n",
      "3/3 [==============================] - 0s 9ms/step - loss: 0.0149 - categorical_accuracy: 0.9643 - val_loss: 0.0125 - val_categorical_accuracy: 1.0000\n",
      "Epoch 77/250\n",
      "3/3 [==============================] - 0s 8ms/step - loss: 0.0182 - categorical_accuracy: 0.9643 - val_loss: 0.0327 - val_categorical_accuracy: 0.8500\n",
      "Epoch 78/250\n",
      "3/3 [==============================] - 0s 9ms/step - loss: 0.0243 - categorical_accuracy: 0.8786 - val_loss: 0.0209 - val_categorical_accuracy: 0.9000\n",
      "Epoch 79/250\n",
      "3/3 [==============================] - 0s 9ms/step - loss: 0.0191 - categorical_accuracy: 0.9286 - val_loss: 0.0272 - val_categorical_accuracy: 0.8750\n",
      "Epoch 80/250\n",
      "3/3 [==============================] - 0s 9ms/step - loss: 0.0147 - categorical_accuracy: 0.9643 - val_loss: 0.0094 - val_categorical_accuracy: 1.0000\n",
      "Epoch 81/250\n",
      "3/3 [==============================] - 0s 9ms/step - loss: 0.0138 - categorical_accuracy: 0.9643 - val_loss: 0.0501 - val_categorical_accuracy: 0.7500\n",
      "Epoch 82/250\n",
      "3/3 [==============================] - 0s 9ms/step - loss: 0.0335 - categorical_accuracy: 0.8643 - val_loss: 0.0086 - val_categorical_accuracy: 1.0000\n",
      "Epoch 83/250\n",
      "3/3 [==============================] - 0s 8ms/step - loss: 0.0202 - categorical_accuracy: 0.8786 - val_loss: 0.0134 - val_categorical_accuracy: 0.9750\n",
      "Epoch 84/250\n",
      "3/3 [==============================] - 0s 9ms/step - loss: 0.0143 - categorical_accuracy: 0.9643 - val_loss: 0.0079 - val_categorical_accuracy: 1.0000\n",
      "Epoch 85/250\n",
      "3/3 [==============================] - 0s 8ms/step - loss: 0.0109 - categorical_accuracy: 0.9786 - val_loss: 0.0197 - val_categorical_accuracy: 0.9500\n",
      "Epoch 86/250\n",
      "3/3 [==============================] - 0s 9ms/step - loss: 0.0235 - categorical_accuracy: 0.8929 - val_loss: 0.0157 - val_categorical_accuracy: 0.9500\n",
      "Epoch 87/250\n",
      "3/3 [==============================] - 0s 8ms/step - loss: 0.0126 - categorical_accuracy: 0.9571 - val_loss: 0.0201 - val_categorical_accuracy: 0.9250\n",
      "Epoch 88/250\n",
      "3/3 [==============================] - 0s 8ms/step - loss: 0.0263 - categorical_accuracy: 0.9000 - val_loss: 0.0136 - val_categorical_accuracy: 0.9750\n",
      "Epoch 89/250\n",
      "3/3 [==============================] - 0s 9ms/step - loss: 0.0127 - categorical_accuracy: 0.9857 - val_loss: 0.0073 - val_categorical_accuracy: 1.0000\n",
      "Epoch 90/250\n",
      "3/3 [==============================] - 0s 8ms/step - loss: 0.0188 - categorical_accuracy: 0.9357 - val_loss: 0.0098 - val_categorical_accuracy: 1.0000\n",
      "Epoch 91/250\n",
      "3/3 [==============================] - 0s 9ms/step - loss: 0.0137 - categorical_accuracy: 0.9786 - val_loss: 0.0060 - val_categorical_accuracy: 1.0000\n",
      "Epoch 92/250\n",
      "3/3 [==============================] - 0s 8ms/step - loss: 0.0095 - categorical_accuracy: 0.9857 - val_loss: 0.0107 - val_categorical_accuracy: 0.9750\n",
      "Epoch 93/250\n",
      "3/3 [==============================] - 0s 8ms/step - loss: 0.0185 - categorical_accuracy: 0.9071 - val_loss: 0.0089 - val_categorical_accuracy: 0.9750\n",
      "Epoch 94/250\n",
      "3/3 [==============================] - 0s 8ms/step - loss: 0.0087 - categorical_accuracy: 0.9929 - val_loss: 0.0057 - val_categorical_accuracy: 1.0000\n",
      "Epoch 95/250\n",
      "3/3 [==============================] - 0s 8ms/step - loss: 0.0141 - categorical_accuracy: 0.9500 - val_loss: 0.0151 - val_categorical_accuracy: 0.9500\n",
      "Epoch 96/250\n",
      "3/3 [==============================] - 0s 8ms/step - loss: 0.0146 - categorical_accuracy: 0.9429 - val_loss: 0.0117 - val_categorical_accuracy: 1.0000\n",
      "Epoch 97/250\n",
      "3/3 [==============================] - 0s 9ms/step - loss: 0.0132 - categorical_accuracy: 0.9643 - val_loss: 0.0053 - val_categorical_accuracy: 1.0000\n",
      "Epoch 98/250\n",
      "3/3 [==============================] - 0s 9ms/step - loss: 0.0149 - categorical_accuracy: 0.9500 - val_loss: 0.0143 - val_categorical_accuracy: 0.9500\n",
      "Epoch 99/250\n",
      "3/3 [==============================] - 0s 9ms/step - loss: 0.0098 - categorical_accuracy: 0.9929 - val_loss: 0.0120 - val_categorical_accuracy: 0.9500\n",
      "Epoch 100/250\n",
      "3/3 [==============================] - 0s 8ms/step - loss: 0.0201 - categorical_accuracy: 0.9071 - val_loss: 0.0185 - val_categorical_accuracy: 0.9250\n"
     ]
    },
    {
     "name": "stdout",
     "output_type": "stream",
     "text": [
      "Epoch 101/250\n",
      "3/3 [==============================] - 0s 8ms/step - loss: 0.0147 - categorical_accuracy: 0.9500 - val_loss: 0.0073 - val_categorical_accuracy: 1.0000\n",
      "Epoch 102/250\n",
      "3/3 [==============================] - 0s 9ms/step - loss: 0.0065 - categorical_accuracy: 0.9929 - val_loss: 0.0073 - val_categorical_accuracy: 1.0000\n",
      "Epoch 103/250\n",
      "3/3 [==============================] - 0s 8ms/step - loss: 0.0117 - categorical_accuracy: 0.9786 - val_loss: 0.0157 - val_categorical_accuracy: 0.9250\n",
      "Epoch 104/250\n",
      "3/3 [==============================] - 0s 8ms/step - loss: 0.0167 - categorical_accuracy: 0.9357 - val_loss: 0.0125 - val_categorical_accuracy: 0.9750\n",
      "Epoch 105/250\n",
      "3/3 [==============================] - 0s 9ms/step - loss: 0.0136 - categorical_accuracy: 0.9429 - val_loss: 0.0314 - val_categorical_accuracy: 0.8750\n",
      "Epoch 106/250\n",
      "3/3 [==============================] - 0s 9ms/step - loss: 0.0193 - categorical_accuracy: 0.9286 - val_loss: 0.0052 - val_categorical_accuracy: 1.0000\n",
      "Epoch 107/250\n",
      "3/3 [==============================] - 0s 8ms/step - loss: 0.0063 - categorical_accuracy: 0.9929 - val_loss: 0.0047 - val_categorical_accuracy: 1.0000\n",
      "Epoch 108/250\n",
      "3/3 [==============================] - 0s 8ms/step - loss: 0.0065 - categorical_accuracy: 1.0000 - val_loss: 0.0084 - val_categorical_accuracy: 0.9750\n",
      "Epoch 109/250\n",
      "3/3 [==============================] - 0s 8ms/step - loss: 0.0052 - categorical_accuracy: 1.0000 - val_loss: 0.0085 - val_categorical_accuracy: 1.0000\n",
      "Epoch 110/250\n",
      "3/3 [==============================] - 0s 9ms/step - loss: 0.0106 - categorical_accuracy: 0.9929 - val_loss: 0.0117 - val_categorical_accuracy: 0.9500\n",
      "Epoch 111/250\n",
      "3/3 [==============================] - 0s 9ms/step - loss: 0.0103 - categorical_accuracy: 0.9571 - val_loss: 0.0097 - val_categorical_accuracy: 0.9750\n",
      "Epoch 112/250\n",
      "3/3 [==============================] - 0s 9ms/step - loss: 0.0189 - categorical_accuracy: 0.9214 - val_loss: 0.0204 - val_categorical_accuracy: 0.9250\n",
      "Epoch 113/250\n",
      "3/3 [==============================] - 0s 8ms/step - loss: 0.0086 - categorical_accuracy: 0.9786 - val_loss: 0.0097 - val_categorical_accuracy: 0.9500\n",
      "Epoch 114/250\n",
      "3/3 [==============================] - 0s 9ms/step - loss: 0.0082 - categorical_accuracy: 0.9929 - val_loss: 0.0032 - val_categorical_accuracy: 1.0000\n",
      "Epoch 115/250\n",
      "3/3 [==============================] - 0s 8ms/step - loss: 0.0056 - categorical_accuracy: 0.9857 - val_loss: 0.0032 - val_categorical_accuracy: 1.0000\n",
      "Epoch 116/250\n",
      "3/3 [==============================] - 0s 8ms/step - loss: 0.0094 - categorical_accuracy: 0.9643 - val_loss: 0.0190 - val_categorical_accuracy: 0.9250\n",
      "Epoch 117/250\n",
      "3/3 [==============================] - 0s 8ms/step - loss: 0.0118 - categorical_accuracy: 0.9571 - val_loss: 0.0029 - val_categorical_accuracy: 1.0000\n",
      "Epoch 118/250\n",
      "3/3 [==============================] - 0s 9ms/step - loss: 0.0050 - categorical_accuracy: 0.9929 - val_loss: 0.0148 - val_categorical_accuracy: 0.9250\n",
      "Epoch 119/250\n",
      "3/3 [==============================] - 0s 9ms/step - loss: 0.0091 - categorical_accuracy: 0.9786 - val_loss: 0.0062 - val_categorical_accuracy: 0.9750\n",
      "Epoch 120/250\n",
      "3/3 [==============================] - 0s 9ms/step - loss: 0.0153 - categorical_accuracy: 0.9071 - val_loss: 0.0027 - val_categorical_accuracy: 1.0000\n",
      "Epoch 121/250\n",
      "3/3 [==============================] - 0s 8ms/step - loss: 0.0063 - categorical_accuracy: 1.0000 - val_loss: 0.0146 - val_categorical_accuracy: 0.9500\n",
      "Epoch 122/250\n",
      "3/3 [==============================] - 0s 9ms/step - loss: 0.0075 - categorical_accuracy: 0.9714 - val_loss: 0.0028 - val_categorical_accuracy: 1.0000\n",
      "Epoch 123/250\n",
      "3/3 [==============================] - 0s 9ms/step - loss: 0.0182 - categorical_accuracy: 0.9214 - val_loss: 0.0388 - val_categorical_accuracy: 0.8750\n",
      "Epoch 124/250\n",
      "3/3 [==============================] - 0s 9ms/step - loss: 0.0206 - categorical_accuracy: 0.9286 - val_loss: 0.0059 - val_categorical_accuracy: 1.0000\n",
      "Epoch 125/250\n",
      "3/3 [==============================] - 0s 8ms/step - loss: 0.0057 - categorical_accuracy: 0.9857 - val_loss: 0.0053 - val_categorical_accuracy: 1.0000\n",
      "Epoch 126/250\n",
      "3/3 [==============================] - 0s 8ms/step - loss: 0.0039 - categorical_accuracy: 1.0000 - val_loss: 0.0055 - val_categorical_accuracy: 0.9750\n",
      "Epoch 127/250\n",
      "3/3 [==============================] - 0s 8ms/step - loss: 0.0062 - categorical_accuracy: 1.0000 - val_loss: 0.0176 - val_categorical_accuracy: 0.9250\n",
      "Epoch 128/250\n",
      "3/3 [==============================] - 0s 8ms/step - loss: 0.0115 - categorical_accuracy: 0.9714 - val_loss: 0.0094 - val_categorical_accuracy: 0.9500\n",
      "Epoch 129/250\n",
      "3/3 [==============================] - 0s 8ms/step - loss: 0.0051 - categorical_accuracy: 0.9857 - val_loss: 0.0115 - val_categorical_accuracy: 0.9750\n",
      "Epoch 130/250\n",
      "3/3 [==============================] - 0s 9ms/step - loss: 0.0242 - categorical_accuracy: 0.9000 - val_loss: 0.0242 - val_categorical_accuracy: 0.9000\n",
      "Epoch 131/250\n",
      "3/3 [==============================] - 0s 9ms/step - loss: 0.0187 - categorical_accuracy: 0.9214 - val_loss: 0.0096 - val_categorical_accuracy: 0.9500\n",
      "Epoch 132/250\n",
      "3/3 [==============================] - 0s 8ms/step - loss: 0.0050 - categorical_accuracy: 0.9857 - val_loss: 0.0026 - val_categorical_accuracy: 1.0000\n",
      "Epoch 133/250\n",
      "3/3 [==============================] - 0s 8ms/step - loss: 0.0055 - categorical_accuracy: 0.9929 - val_loss: 0.0048 - val_categorical_accuracy: 1.0000\n",
      "Epoch 134/250\n",
      "3/3 [==============================] - 0s 9ms/step - loss: 0.0033 - categorical_accuracy: 1.0000 - val_loss: 0.0143 - val_categorical_accuracy: 0.9500\n",
      "Epoch 135/250\n",
      "3/3 [==============================] - 0s 8ms/step - loss: 0.0070 - categorical_accuracy: 0.9929 - val_loss: 0.0029 - val_categorical_accuracy: 1.0000\n",
      "Epoch 136/250\n",
      "3/3 [==============================] - 0s 9ms/step - loss: 0.0131 - categorical_accuracy: 0.9286 - val_loss: 0.0237 - val_categorical_accuracy: 0.9250\n",
      "Epoch 137/250\n",
      "3/3 [==============================] - 0s 8ms/step - loss: 0.0180 - categorical_accuracy: 0.9357 - val_loss: 0.0024 - val_categorical_accuracy: 1.0000\n",
      "Epoch 138/250\n",
      "3/3 [==============================] - 0s 8ms/step - loss: 0.0096 - categorical_accuracy: 0.9714 - val_loss: 0.0089 - val_categorical_accuracy: 0.9500\n",
      "Epoch 139/250\n",
      "3/3 [==============================] - 0s 8ms/step - loss: 0.0046 - categorical_accuracy: 0.9929 - val_loss: 0.0027 - val_categorical_accuracy: 1.0000\n",
      "Epoch 140/250\n",
      "3/3 [==============================] - 0s 9ms/step - loss: 0.0094 - categorical_accuracy: 0.9714 - val_loss: 0.0059 - val_categorical_accuracy: 0.9750\n",
      "Epoch 141/250\n",
      "3/3 [==============================] - 0s 8ms/step - loss: 0.0036 - categorical_accuracy: 0.9929 - val_loss: 0.0025 - val_categorical_accuracy: 1.0000\n",
      "Epoch 142/250\n",
      "3/3 [==============================] - 0s 9ms/step - loss: 0.0025 - categorical_accuracy: 1.0000 - val_loss: 0.0061 - val_categorical_accuracy: 0.9750\n",
      "Epoch 143/250\n",
      "3/3 [==============================] - 0s 9ms/step - loss: 0.0028 - categorical_accuracy: 1.0000 - val_loss: 0.0096 - val_categorical_accuracy: 1.0000\n",
      "Epoch 144/250\n",
      "3/3 [==============================] - 0s 9ms/step - loss: 0.0074 - categorical_accuracy: 0.9857 - val_loss: 0.0582 - val_categorical_accuracy: 0.8000\n",
      "Epoch 145/250\n",
      "3/3 [==============================] - 0s 9ms/step - loss: 0.0243 - categorical_accuracy: 0.9143 - val_loss: 0.0026 - val_categorical_accuracy: 1.0000\n",
      "Epoch 146/250\n",
      "3/3 [==============================] - 0s 9ms/step - loss: 0.0034 - categorical_accuracy: 1.0000 - val_loss: 0.0029 - val_categorical_accuracy: 1.0000\n",
      "Epoch 147/250\n",
      "3/3 [==============================] - 0s 8ms/step - loss: 0.0023 - categorical_accuracy: 1.0000 - val_loss: 0.0194 - val_categorical_accuracy: 0.9000\n",
      "Epoch 148/250\n",
      "3/3 [==============================] - 0s 9ms/step - loss: 0.0125 - categorical_accuracy: 0.9429 - val_loss: 0.0019 - val_categorical_accuracy: 1.0000\n",
      "Epoch 149/250\n",
      "3/3 [==============================] - 0s 8ms/step - loss: 0.0051 - categorical_accuracy: 1.0000 - val_loss: 0.0102 - val_categorical_accuracy: 0.9500\n",
      "Epoch 150/250\n",
      "3/3 [==============================] - 0s 8ms/step - loss: 0.0067 - categorical_accuracy: 0.9786 - val_loss: 0.0020 - val_categorical_accuracy: 1.0000\n"
     ]
    },
    {
     "name": "stdout",
     "output_type": "stream",
     "text": [
      "Epoch 151/250\n",
      "3/3 [==============================] - 0s 9ms/step - loss: 0.0107 - categorical_accuracy: 0.9500 - val_loss: 0.0024 - val_categorical_accuracy: 1.0000\n",
      "Epoch 152/250\n",
      "3/3 [==============================] - 0s 8ms/step - loss: 0.0032 - categorical_accuracy: 1.0000 - val_loss: 0.0208 - val_categorical_accuracy: 0.9250\n",
      "Epoch 153/250\n",
      "3/3 [==============================] - 0s 8ms/step - loss: 0.0083 - categorical_accuracy: 0.9929 - val_loss: 0.0017 - val_categorical_accuracy: 1.0000\n",
      "Epoch 154/250\n",
      "3/3 [==============================] - 0s 8ms/step - loss: 0.0019 - categorical_accuracy: 1.0000 - val_loss: 0.0053 - val_categorical_accuracy: 0.9750\n",
      "Epoch 155/250\n",
      "3/3 [==============================] - 0s 8ms/step - loss: 0.0022 - categorical_accuracy: 1.0000 - val_loss: 0.0019 - val_categorical_accuracy: 1.0000\n",
      "Epoch 156/250\n",
      "3/3 [==============================] - 0s 8ms/step - loss: 0.0023 - categorical_accuracy: 1.0000 - val_loss: 0.0017 - val_categorical_accuracy: 1.0000\n",
      "Epoch 157/250\n",
      "3/3 [==============================] - 0s 9ms/step - loss: 0.0030 - categorical_accuracy: 0.9929 - val_loss: 0.0044 - val_categorical_accuracy: 1.0000\n",
      "Epoch 158/250\n",
      "3/3 [==============================] - 0s 8ms/step - loss: 0.0237 - categorical_accuracy: 0.9000 - val_loss: 0.0083 - val_categorical_accuracy: 0.9500\n",
      "Epoch 159/250\n",
      "3/3 [==============================] - 0s 9ms/step - loss: 0.0065 - categorical_accuracy: 0.9714 - val_loss: 0.0153 - val_categorical_accuracy: 0.9500\n",
      "Epoch 160/250\n",
      "3/3 [==============================] - 0s 8ms/step - loss: 0.0139 - categorical_accuracy: 0.9214 - val_loss: 0.0069 - val_categorical_accuracy: 0.9750\n",
      "Epoch 161/250\n",
      "3/3 [==============================] - 0s 8ms/step - loss: 0.0101 - categorical_accuracy: 0.9571 - val_loss: 0.0062 - val_categorical_accuracy: 0.9750\n",
      "Epoch 162/250\n",
      "3/3 [==============================] - 0s 8ms/step - loss: 0.0026 - categorical_accuracy: 0.9929 - val_loss: 0.0014 - val_categorical_accuracy: 1.0000\n",
      "Epoch 163/250\n",
      "3/3 [==============================] - 0s 8ms/step - loss: 0.0043 - categorical_accuracy: 0.9929 - val_loss: 0.0044 - val_categorical_accuracy: 0.9750\n",
      "Epoch 164/250\n",
      "3/3 [==============================] - 0s 9ms/step - loss: 0.0020 - categorical_accuracy: 0.9929 - val_loss: 0.0040 - val_categorical_accuracy: 1.0000\n",
      "Epoch 165/250\n",
      "3/3 [==============================] - 0s 9ms/step - loss: 0.0042 - categorical_accuracy: 1.0000 - val_loss: 0.0104 - val_categorical_accuracy: 0.9500\n",
      "Epoch 166/250\n",
      "3/3 [==============================] - 0s 8ms/step - loss: 0.0051 - categorical_accuracy: 0.9857 - val_loss: 0.0026 - val_categorical_accuracy: 1.0000\n",
      "Epoch 167/250\n",
      "3/3 [==============================] - 0s 8ms/step - loss: 0.0013 - categorical_accuracy: 1.0000 - val_loss: 0.0032 - val_categorical_accuracy: 1.0000\n",
      "Epoch 168/250\n",
      "3/3 [==============================] - 0s 8ms/step - loss: 0.0014 - categorical_accuracy: 1.0000 - val_loss: 0.0014 - val_categorical_accuracy: 1.0000\n",
      "Epoch 169/250\n",
      "3/3 [==============================] - 0s 8ms/step - loss: 0.0125 - categorical_accuracy: 0.9500 - val_loss: 0.0579 - val_categorical_accuracy: 0.7750\n",
      "Epoch 170/250\n",
      "3/3 [==============================] - 0s 9ms/step - loss: 0.0288 - categorical_accuracy: 0.9000 - val_loss: 0.0055 - val_categorical_accuracy: 0.9750\n",
      "Epoch 171/250\n",
      "3/3 [==============================] - 0s 9ms/step - loss: 0.0041 - categorical_accuracy: 0.9929 - val_loss: 0.0034 - val_categorical_accuracy: 1.0000\n",
      "Epoch 172/250\n",
      "3/3 [==============================] - 0s 8ms/step - loss: 0.0016 - categorical_accuracy: 1.0000 - val_loss: 0.0015 - val_categorical_accuracy: 1.0000\n",
      "Epoch 173/250\n",
      "3/3 [==============================] - 0s 8ms/step - loss: 0.0014 - categorical_accuracy: 1.0000 - val_loss: 0.0017 - val_categorical_accuracy: 1.0000\n",
      "Epoch 174/250\n",
      "3/3 [==============================] - 0s 9ms/step - loss: 0.0012 - categorical_accuracy: 1.0000 - val_loss: 0.0016 - val_categorical_accuracy: 1.0000\n",
      "Epoch 175/250\n",
      "3/3 [==============================] - 0s 9ms/step - loss: 0.0123 - categorical_accuracy: 0.9357 - val_loss: 0.0022 - val_categorical_accuracy: 1.0000\n",
      "Epoch 176/250\n",
      "3/3 [==============================] - 0s 9ms/step - loss: 0.0049 - categorical_accuracy: 0.9857 - val_loss: 0.0033 - val_categorical_accuracy: 1.0000\n",
      "Epoch 177/250\n",
      "3/3 [==============================] - 0s 9ms/step - loss: 0.0013 - categorical_accuracy: 1.0000 - val_loss: 0.0018 - val_categorical_accuracy: 1.0000\n",
      "Epoch 178/250\n",
      "3/3 [==============================] - 0s 8ms/step - loss: 0.0012 - categorical_accuracy: 1.0000 - val_loss: 0.0024 - val_categorical_accuracy: 1.0000\n",
      "Epoch 179/250\n",
      "3/3 [==============================] - 0s 9ms/step - loss: 0.0014 - categorical_accuracy: 1.0000 - val_loss: 0.0158 - val_categorical_accuracy: 0.9250\n",
      "Epoch 180/250\n",
      "3/3 [==============================] - 0s 9ms/step - loss: 0.0097 - categorical_accuracy: 0.9500 - val_loss: 0.0011 - val_categorical_accuracy: 1.0000\n",
      "Epoch 181/250\n",
      "3/3 [==============================] - 0s 9ms/step - loss: 0.0021 - categorical_accuracy: 1.0000 - val_loss: 0.0014 - val_categorical_accuracy: 1.0000\n",
      "Epoch 182/250\n",
      "3/3 [==============================] - 0s 9ms/step - loss: 0.0013 - categorical_accuracy: 1.0000 - val_loss: 7.6608e-04 - val_categorical_accuracy: 1.0000\n",
      "Epoch 183/250\n",
      "3/3 [==============================] - 0s 8ms/step - loss: 0.0028 - categorical_accuracy: 0.9929 - val_loss: 0.0012 - val_categorical_accuracy: 1.0000\n",
      "Epoch 184/250\n",
      "3/3 [==============================] - 0s 8ms/step - loss: 0.0093 - categorical_accuracy: 0.9571 - val_loss: 0.0133 - val_categorical_accuracy: 0.9500\n",
      "Epoch 185/250\n",
      "3/3 [==============================] - 0s 9ms/step - loss: 0.0129 - categorical_accuracy: 0.9357 - val_loss: 0.0175 - val_categorical_accuracy: 0.9500\n",
      "Epoch 186/250\n",
      "3/3 [==============================] - 0s 9ms/step - loss: 0.0230 - categorical_accuracy: 0.9214 - val_loss: 0.0017 - val_categorical_accuracy: 1.0000\n",
      "Epoch 187/250\n",
      "3/3 [==============================] - 0s 8ms/step - loss: 0.0014 - categorical_accuracy: 1.0000 - val_loss: 0.0044 - val_categorical_accuracy: 1.0000\n",
      "Epoch 188/250\n",
      "3/3 [==============================] - 0s 8ms/step - loss: 0.0041 - categorical_accuracy: 0.9929 - val_loss: 0.0028 - val_categorical_accuracy: 1.0000\n",
      "Epoch 189/250\n",
      "3/3 [==============================] - 0s 8ms/step - loss: 0.0012 - categorical_accuracy: 1.0000 - val_loss: 0.0015 - val_categorical_accuracy: 1.0000\n",
      "Epoch 190/250\n",
      "3/3 [==============================] - 0s 9ms/step - loss: 9.9831e-04 - categorical_accuracy: 1.0000 - val_loss: 0.0018 - val_categorical_accuracy: 1.0000\n",
      "Epoch 191/250\n",
      "3/3 [==============================] - 0s 9ms/step - loss: 0.0011 - categorical_accuracy: 1.0000 - val_loss: 0.0167 - val_categorical_accuracy: 0.9250\n",
      "Epoch 192/250\n",
      "3/3 [==============================] - 0s 8ms/step - loss: 0.0041 - categorical_accuracy: 0.9929 - val_loss: 7.7649e-04 - val_categorical_accuracy: 1.0000\n",
      "Epoch 193/250\n",
      "3/3 [==============================] - 0s 9ms/step - loss: 0.0013 - categorical_accuracy: 1.0000 - val_loss: 7.9244e-04 - val_categorical_accuracy: 1.0000\n",
      "Epoch 194/250\n",
      "3/3 [==============================] - 0s 9ms/step - loss: 0.0017 - categorical_accuracy: 1.0000 - val_loss: 0.0034 - val_categorical_accuracy: 1.0000\n",
      "Epoch 195/250\n",
      "3/3 [==============================] - 0s 8ms/step - loss: 9.2751e-04 - categorical_accuracy: 1.0000 - val_loss: 0.0044 - val_categorical_accuracy: 0.9750\n",
      "Epoch 196/250\n",
      "3/3 [==============================] - 0s 8ms/step - loss: 0.0023 - categorical_accuracy: 0.9929 - val_loss: 0.0179 - val_categorical_accuracy: 0.9250\n",
      "Epoch 197/250\n",
      "3/3 [==============================] - 0s 8ms/step - loss: 0.0322 - categorical_accuracy: 0.8857 - val_loss: 0.0092 - val_categorical_accuracy: 0.9500\n",
      "Epoch 198/250\n",
      "3/3 [==============================] - 0s 9ms/step - loss: 0.0046 - categorical_accuracy: 0.9857 - val_loss: 0.0095 - val_categorical_accuracy: 0.9500\n",
      "Epoch 199/250\n",
      "3/3 [==============================] - 0s 8ms/step - loss: 0.0087 - categorical_accuracy: 0.9786 - val_loss: 0.0045 - val_categorical_accuracy: 0.9750\n",
      "Epoch 200/250\n"
     ]
    },
    {
     "name": "stdout",
     "output_type": "stream",
     "text": [
      "3/3 [==============================] - 0s 9ms/step - loss: 0.0012 - categorical_accuracy: 1.0000 - val_loss: 5.0764e-04 - val_categorical_accuracy: 1.0000\n",
      "Epoch 201/250\n",
      "3/3 [==============================] - 0s 9ms/step - loss: 8.5202e-04 - categorical_accuracy: 1.0000 - val_loss: 7.3814e-04 - val_categorical_accuracy: 1.0000\n",
      "Epoch 202/250\n",
      "3/3 [==============================] - 0s 8ms/step - loss: 0.0014 - categorical_accuracy: 1.0000 - val_loss: 3.9748e-04 - val_categorical_accuracy: 1.0000\n",
      "Epoch 203/250\n",
      "3/3 [==============================] - 0s 9ms/step - loss: 0.0135 - categorical_accuracy: 0.9429 - val_loss: 0.0150 - val_categorical_accuracy: 0.9500\n",
      "Epoch 204/250\n",
      "3/3 [==============================] - 0s 9ms/step - loss: 0.0092 - categorical_accuracy: 0.9714 - val_loss: 0.0131 - val_categorical_accuracy: 0.9750\n",
      "Epoch 205/250\n",
      "3/3 [==============================] - 0s 8ms/step - loss: 0.0081 - categorical_accuracy: 0.9857 - val_loss: 0.0015 - val_categorical_accuracy: 1.0000\n",
      "Epoch 206/250\n",
      "3/3 [==============================] - 0s 9ms/step - loss: 7.8266e-04 - categorical_accuracy: 1.0000 - val_loss: 0.0016 - val_categorical_accuracy: 1.0000\n",
      "Epoch 207/250\n",
      "3/3 [==============================] - 0s 9ms/step - loss: 0.0101 - categorical_accuracy: 0.9500 - val_loss: 0.0269 - val_categorical_accuracy: 0.9000\n",
      "Epoch 208/250\n",
      "3/3 [==============================] - 0s 8ms/step - loss: 0.0136 - categorical_accuracy: 0.9429 - val_loss: 6.5705e-04 - val_categorical_accuracy: 1.0000\n",
      "Epoch 209/250\n",
      "3/3 [==============================] - 0s 9ms/step - loss: 8.2983e-04 - categorical_accuracy: 1.0000 - val_loss: 0.0019 - val_categorical_accuracy: 1.0000\n",
      "Epoch 210/250\n",
      "3/3 [==============================] - 0s 8ms/step - loss: 0.0066 - categorical_accuracy: 0.9714 - val_loss: 0.0012 - val_categorical_accuracy: 1.0000\n",
      "Epoch 211/250\n",
      "3/3 [==============================] - 0s 8ms/step - loss: 6.3720e-04 - categorical_accuracy: 1.0000 - val_loss: 7.7142e-04 - val_categorical_accuracy: 1.0000\n",
      "Epoch 212/250\n",
      "3/3 [==============================] - 0s 9ms/step - loss: 7.5132e-04 - categorical_accuracy: 1.0000 - val_loss: 0.0013 - val_categorical_accuracy: 1.0000\n",
      "Epoch 213/250\n",
      "3/3 [==============================] - 0s 9ms/step - loss: 6.4400e-04 - categorical_accuracy: 1.0000 - val_loss: 6.5820e-04 - val_categorical_accuracy: 1.0000\n",
      "Epoch 214/250\n",
      "3/3 [==============================] - 0s 9ms/step - loss: 5.7332e-04 - categorical_accuracy: 1.0000 - val_loss: 0.0026 - val_categorical_accuracy: 1.0000\n",
      "Epoch 215/250\n",
      "3/3 [==============================] - 0s 9ms/step - loss: 0.0035 - categorical_accuracy: 0.9929 - val_loss: 0.0023 - val_categorical_accuracy: 1.0000\n",
      "Epoch 216/250\n",
      "3/3 [==============================] - 0s 8ms/step - loss: 6.1515e-04 - categorical_accuracy: 1.0000 - val_loss: 0.0010 - val_categorical_accuracy: 1.0000\n",
      "Epoch 217/250\n",
      "3/3 [==============================] - 0s 9ms/step - loss: 5.1626e-04 - categorical_accuracy: 1.0000 - val_loss: 0.0020 - val_categorical_accuracy: 1.0000\n",
      "Epoch 218/250\n",
      "3/3 [==============================] - 0s 9ms/step - loss: 0.0302 - categorical_accuracy: 0.8929 - val_loss: 0.0037 - val_categorical_accuracy: 0.9750\n",
      "Epoch 219/250\n",
      "3/3 [==============================] - 0s 9ms/step - loss: 0.0019 - categorical_accuracy: 1.0000 - val_loss: 0.0011 - val_categorical_accuracy: 1.0000\n",
      "Epoch 220/250\n",
      "3/3 [==============================] - 0s 9ms/step - loss: 0.0161 - categorical_accuracy: 0.9357 - val_loss: 3.9111e-04 - val_categorical_accuracy: 1.0000\n",
      "Epoch 221/250\n",
      "3/3 [==============================] - 0s 8ms/step - loss: 8.8376e-04 - categorical_accuracy: 1.0000 - val_loss: 0.0022 - val_categorical_accuracy: 1.0000\n",
      "Epoch 222/250\n",
      "3/3 [==============================] - 0s 9ms/step - loss: 0.0012 - categorical_accuracy: 1.0000 - val_loss: 7.0379e-04 - val_categorical_accuracy: 1.0000\n",
      "Epoch 223/250\n",
      "3/3 [==============================] - 0s 8ms/step - loss: 0.0048 - categorical_accuracy: 0.9857 - val_loss: 0.0014 - val_categorical_accuracy: 1.0000\n",
      "Epoch 224/250\n",
      "3/3 [==============================] - 0s 9ms/step - loss: 8.8006e-04 - categorical_accuracy: 1.0000 - val_loss: 0.0011 - val_categorical_accuracy: 1.0000\n",
      "Epoch 225/250\n",
      "3/3 [==============================] - 0s 9ms/step - loss: 5.8882e-04 - categorical_accuracy: 1.0000 - val_loss: 0.0019 - val_categorical_accuracy: 1.0000\n",
      "Epoch 226/250\n",
      "3/3 [==============================] - 0s 9ms/step - loss: 9.3761e-04 - categorical_accuracy: 1.0000 - val_loss: 0.0265 - val_categorical_accuracy: 0.9000\n",
      "Epoch 227/250\n",
      "3/3 [==============================] - 0s 8ms/step - loss: 0.0165 - categorical_accuracy: 0.9429 - val_loss: 0.0108 - val_categorical_accuracy: 0.9500\n",
      "Epoch 228/250\n",
      "3/3 [==============================] - 0s 9ms/step - loss: 0.0087 - categorical_accuracy: 0.9571 - val_loss: 0.0095 - val_categorical_accuracy: 0.9500\n",
      "Epoch 229/250\n",
      "3/3 [==============================] - 0s 9ms/step - loss: 0.0015 - categorical_accuracy: 0.9929 - val_loss: 8.8244e-04 - val_categorical_accuracy: 1.0000\n",
      "Epoch 230/250\n",
      "3/3 [==============================] - 0s 8ms/step - loss: 0.0020 - categorical_accuracy: 0.9929 - val_loss: 0.0023 - val_categorical_accuracy: 1.0000\n",
      "Epoch 231/250\n",
      "3/3 [==============================] - 0s 11ms/step - loss: 0.0027 - categorical_accuracy: 0.9929 - val_loss: 0.0021 - val_categorical_accuracy: 1.0000\n",
      "Epoch 232/250\n",
      "3/3 [==============================] - 0s 9ms/step - loss: 5.0246e-04 - categorical_accuracy: 1.0000 - val_loss: 0.0022 - val_categorical_accuracy: 1.0000\n",
      "Epoch 233/250\n",
      "3/3 [==============================] - 0s 8ms/step - loss: 0.0279 - categorical_accuracy: 0.8857 - val_loss: 0.0096 - val_categorical_accuracy: 0.9500\n",
      "Epoch 234/250\n",
      "3/3 [==============================] - 0s 8ms/step - loss: 0.0049 - categorical_accuracy: 0.9786 - val_loss: 4.0135e-04 - val_categorical_accuracy: 1.0000\n",
      "Epoch 235/250\n",
      "3/3 [==============================] - 0s 8ms/step - loss: 0.0030 - categorical_accuracy: 0.9857 - val_loss: 0.0046 - val_categorical_accuracy: 0.9750\n",
      "Epoch 236/250\n",
      "3/3 [==============================] - 0s 8ms/step - loss: 0.0016 - categorical_accuracy: 0.9929 - val_loss: 9.2216e-04 - val_categorical_accuracy: 1.0000\n",
      "Epoch 237/250\n",
      "3/3 [==============================] - 0s 8ms/step - loss: 4.1147e-04 - categorical_accuracy: 1.0000 - val_loss: 0.0033 - val_categorical_accuracy: 0.9750\n",
      "Epoch 238/250\n",
      "3/3 [==============================] - 0s 8ms/step - loss: 9.7759e-04 - categorical_accuracy: 1.0000 - val_loss: 0.0098 - val_categorical_accuracy: 0.9500\n",
      "Epoch 239/250\n",
      "3/3 [==============================] - 0s 8ms/step - loss: 0.0029 - categorical_accuracy: 0.9929 - val_loss: 0.0029 - val_categorical_accuracy: 1.0000\n",
      "Epoch 240/250\n",
      "3/3 [==============================] - 0s 8ms/step - loss: 9.0223e-04 - categorical_accuracy: 1.0000 - val_loss: 4.9714e-04 - val_categorical_accuracy: 1.0000\n",
      "Epoch 241/250\n",
      "3/3 [==============================] - 0s 8ms/step - loss: 0.0013 - categorical_accuracy: 1.0000 - val_loss: 0.0011 - val_categorical_accuracy: 1.0000\n",
      "Epoch 242/250\n",
      "3/3 [==============================] - 0s 9ms/step - loss: 0.0012 - categorical_accuracy: 1.0000 - val_loss: 9.4562e-04 - val_categorical_accuracy: 1.0000\n",
      "Epoch 243/250\n",
      "3/3 [==============================] - 0s 8ms/step - loss: 9.1323e-04 - categorical_accuracy: 1.0000 - val_loss: 0.0374 - val_categorical_accuracy: 0.9250\n",
      "Epoch 244/250\n",
      "3/3 [==============================] - 0s 8ms/step - loss: 0.0258 - categorical_accuracy: 0.9143 - val_loss: 0.0075 - val_categorical_accuracy: 0.9750\n",
      "Epoch 245/250\n",
      "3/3 [==============================] - 0s 8ms/step - loss: 0.0113 - categorical_accuracy: 0.9643 - val_loss: 0.0012 - val_categorical_accuracy: 1.0000\n",
      "Epoch 246/250\n",
      "3/3 [==============================] - 0s 8ms/step - loss: 6.0882e-04 - categorical_accuracy: 1.0000 - val_loss: 0.0015 - val_categorical_accuracy: 1.0000\n",
      "Epoch 247/250\n",
      "3/3 [==============================] - 0s 10ms/step - loss: 5.6894e-04 - categorical_accuracy: 1.0000 - val_loss: 0.0022 - val_categorical_accuracy: 1.0000\n",
      "Epoch 248/250\n",
      "3/3 [==============================] - 0s 10ms/step - loss: 6.4584e-04 - categorical_accuracy: 1.0000 - val_loss: 0.0014 - val_categorical_accuracy: 1.0000\n"
     ]
    },
    {
     "name": "stdout",
     "output_type": "stream",
     "text": [
      "Epoch 249/250\n",
      "3/3 [==============================] - 0s 9ms/step - loss: 4.7331e-04 - categorical_accuracy: 1.0000 - val_loss: 0.0016 - val_categorical_accuracy: 1.0000\n",
      "Epoch 250/250\n",
      "3/3 [==============================] - 0s 11ms/step - loss: 6.0479e-04 - categorical_accuracy: 1.0000 - val_loss: 7.1570e-04 - val_categorical_accuracy: 1.0000\n"
     ]
    }
   ],
   "source": [
    "num_epochs = 250\n",
    "batch_size = 64\n",
    "\n",
    "history = model.fit(input_training, target_training,\n",
    "                            validation_data=(input_test, target_test),\n",
    "                            epochs=num_epochs, batch_size=batch_size, verbose=1)"
   ]
  },
  {
   "cell_type": "code",
   "execution_count": 1274,
   "metadata": {
    "id": "nAI_BrY9rA-S"
   },
   "outputs": [],
   "source": [
    "epochs = range(1, num_epochs+1)\n",
    "\n",
    "# during training\n",
    "loss = history.history['loss']\n",
    "accuracy = history.history['categorical_accuracy']\n",
    "\n",
    "# outside training\n",
    "val_loss = history.history['val_loss']\n",
    "val_accuracy = history.history['val_categorical_accuracy']"
   ]
  },
  {
   "cell_type": "code",
   "execution_count": 1275,
   "metadata": {
    "colab": {
     "base_uri": "https://localhost:8080/",
     "height": 279
    },
    "id": "SALsm-XRv90W",
    "outputId": "f639c943-f668-416c-c053-8c1772ef2d17"
   },
   "outputs": [
    {
     "data": {
      "image/png": "[encoded data removed]",
      "text/plain": [
       "<Figure size 432x288 with 1 Axes>"
      ]
     },
     "metadata": {
      "needs_background": "light"
     },
     "output_type": "display_data"
    }
   ],
   "source": [
    "# plot loss\n",
    "plt.plot(epochs, loss, 'r')\n",
    "plt.plot(epochs, val_loss, 'b')\n",
    "plt.xlabel('Epochs')\n",
    "plt.ylabel('LOSS')\n",
    "plt.legend(['train', 'test'], loc='upper left')\n",
    "\n",
    "plt.show()\n",
    "#AUMENTAR NUM EPOCHS"
   ]
  },
  {
   "cell_type": "code",
   "execution_count": 1276,
   "metadata": {
    "colab": {
     "base_uri": "https://localhost:8080/",
     "height": 279
    },
    "id": "qC6McPW4v_1l",
    "outputId": "83a39949-7de6-4a64-818c-a12d8e86a44e"
   },
   "outputs": [
    {
     "data": {
      "image/png": "[encoded data removed]",
      "text/plain": [
       "<Figure size 432x288 with 1 Axes>"
      ]
     },
     "metadata": {
      "needs_background": "light"
     },
     "output_type": "display_data"
    }
   ],
   "source": [
    "# plot accuracy\n",
    "plt.plot(epochs, accuracy, 'r')\n",
    "plt.plot(epochs, val_accuracy, 'b')\n",
    "plt.xlabel('Epochs')\n",
    "plt.ylabel('Accuracy')\n",
    "plt.legend(['train', 'test'], loc='upper left')\n",
    "plt.show()"
   ]
  },
  {
   "cell_type": "markdown",
   "metadata": {
    "id": "ejzz3F0FEdLA"
   },
   "source": [
    "Validate"
   ]
  },
  {
   "cell_type": "code",
   "execution_count": 1186,
   "metadata": {
    "id": "oACKlZ8vwGAP"
   },
   "outputs": [],
   "source": [
    "#predict\n",
    "predictions_targets = model.predict(input_validation)\n",
    "predicted = label_encoder.inverse_transform(predictions_targets.argmax(1))"
   ]
  },
  {
   "cell_type": "code",
   "execution_count": null,
   "metadata": {
    "id": "2zCmp8hkEenx"
   },
   "outputs": [],
   "source": [
    "# target\n",
    "targets_val = label_encoder.inverse_transform(np.array(target_validation.values).argmax(1))"
   ]
  },
  {
   "cell_type": "code",
   "execution_count": 1158,
   "metadata": {
    "colab": {
     "base_uri": "https://localhost:8080/",
     "height": 676
    },
    "id": "4iVISs4wEgQ_",
    "outputId": "93dbd909-7570-4b9c-fcfb-c966d8070b55"
   },
   "outputs": [
    {
     "data": {
      "text/html": [
       "<div>\n",
       "<style scoped>\n",
       "    .dataframe tbody tr th:only-of-type {\n",
       "        vertical-align: middle;\n",
       "    }\n",
       "\n",
       "    .dataframe tbody tr th {\n",
       "        vertical-align: top;\n",
       "    }\n",
       "\n",
       "    .dataframe thead th {\n",
       "        text-align: right;\n",
       "    }\n",
       "</style>\n",
       "<table border=\"1\" class=\"dataframe\">\n",
       "  <thead>\n",
       "    <tr style=\"text-align: right;\">\n",
       "      <th></th>\n",
       "      <th>target</th>\n",
       "      <th>predicted</th>\n",
       "    </tr>\n",
       "  </thead>\n",
       "  <tbody>\n",
       "    <tr>\n",
       "      <th>0</th>\n",
       "      <td>5</td>\n",
       "      <td>5</td>\n",
       "    </tr>\n",
       "    <tr>\n",
       "      <th>1</th>\n",
       "      <td>1</td>\n",
       "      <td>1</td>\n",
       "    </tr>\n",
       "    <tr>\n",
       "      <th>2</th>\n",
       "      <td>0</td>\n",
       "      <td>1</td>\n",
       "    </tr>\n",
       "    <tr>\n",
       "      <th>3</th>\n",
       "      <td>3</td>\n",
       "      <td>3</td>\n",
       "    </tr>\n",
       "    <tr>\n",
       "      <th>4</th>\n",
       "      <td>1</td>\n",
       "      <td>1</td>\n",
       "    </tr>\n",
       "    <tr>\n",
       "      <th>5</th>\n",
       "      <td>5</td>\n",
       "      <td>5</td>\n",
       "    </tr>\n",
       "    <tr>\n",
       "      <th>6</th>\n",
       "      <td>5</td>\n",
       "      <td>5</td>\n",
       "    </tr>\n",
       "    <tr>\n",
       "      <th>7</th>\n",
       "      <td>4</td>\n",
       "      <td>4</td>\n",
       "    </tr>\n",
       "    <tr>\n",
       "      <th>8</th>\n",
       "      <td>0</td>\n",
       "      <td>1</td>\n",
       "    </tr>\n",
       "    <tr>\n",
       "      <th>9</th>\n",
       "      <td>4</td>\n",
       "      <td>4</td>\n",
       "    </tr>\n",
       "    <tr>\n",
       "      <th>10</th>\n",
       "      <td>5</td>\n",
       "      <td>5</td>\n",
       "    </tr>\n",
       "    <tr>\n",
       "      <th>11</th>\n",
       "      <td>2</td>\n",
       "      <td>2</td>\n",
       "    </tr>\n",
       "    <tr>\n",
       "      <th>12</th>\n",
       "      <td>4</td>\n",
       "      <td>4</td>\n",
       "    </tr>\n",
       "    <tr>\n",
       "      <th>13</th>\n",
       "      <td>2</td>\n",
       "      <td>2</td>\n",
       "    </tr>\n",
       "    <tr>\n",
       "      <th>14</th>\n",
       "      <td>2</td>\n",
       "      <td>2</td>\n",
       "    </tr>\n",
       "    <tr>\n",
       "      <th>15</th>\n",
       "      <td>0</td>\n",
       "      <td>1</td>\n",
       "    </tr>\n",
       "    <tr>\n",
       "      <th>16</th>\n",
       "      <td>5</td>\n",
       "      <td>5</td>\n",
       "    </tr>\n",
       "    <tr>\n",
       "      <th>17</th>\n",
       "      <td>2</td>\n",
       "      <td>2</td>\n",
       "    </tr>\n",
       "    <tr>\n",
       "      <th>18</th>\n",
       "      <td>1</td>\n",
       "      <td>1</td>\n",
       "    </tr>\n",
       "    <tr>\n",
       "      <th>19</th>\n",
       "      <td>5</td>\n",
       "      <td>5</td>\n",
       "    </tr>\n",
       "  </tbody>\n",
       "</table>\n",
       "</div>"
      ],
      "text/plain": [
       "    target  predicted\n",
       "0        5          5\n",
       "1        1          1\n",
       "2        0          1\n",
       "3        3          3\n",
       "4        1          1\n",
       "5        5          5\n",
       "6        5          5\n",
       "7        4          4\n",
       "8        0          1\n",
       "9        4          4\n",
       "10       5          5\n",
       "11       2          2\n",
       "12       4          4\n",
       "13       2          2\n",
       "14       2          2\n",
       "15       0          1\n",
       "16       5          5\n",
       "17       2          2\n",
       "18       1          1\n",
       "19       5          5"
      ]
     },
     "execution_count": 1158,
     "metadata": {},
     "output_type": "execute_result"
    }
   ],
   "source": [
    "# compare them\n",
    "df = pd.DataFrame({'target':targets_val, 'predicted': predicted})\n",
    "df"
   ]
  },
  {
   "cell_type": "markdown",
   "metadata": {
    "id": "-z60TtYodNRf"
   },
   "source": [
    "applying to the test"
   ]
  },
  {
   "cell_type": "code",
   "execution_count": 1160,
   "metadata": {
    "colab": {
     "base_uri": "https://localhost:8080/",
     "height": 206
    },
    "id": "bbJPSIxhlG-x",
    "outputId": "574dd731-e7a8-419a-e2a3-0811eabc9593"
   },
   "outputs": [
    {
     "data": {
      "text/html": [
       "<div>\n",
       "<style scoped>\n",
       "    .dataframe tbody tr th:only-of-type {\n",
       "        vertical-align: middle;\n",
       "    }\n",
       "\n",
       "    .dataframe tbody tr th {\n",
       "        vertical-align: top;\n",
       "    }\n",
       "\n",
       "    .dataframe thead th {\n",
       "        text-align: right;\n",
       "    }\n",
       "</style>\n",
       "<table border=\"1\" class=\"dataframe\">\n",
       "  <thead>\n",
       "    <tr style=\"text-align: right;\">\n",
       "      <th></th>\n",
       "      <th>Temperature</th>\n",
       "      <th>L</th>\n",
       "      <th>R</th>\n",
       "      <th>A_M</th>\n",
       "      <th>Color</th>\n",
       "      <th>Spectral_Class</th>\n",
       "    </tr>\n",
       "  </thead>\n",
       "  <tbody>\n",
       "    <tr>\n",
       "      <th>0</th>\n",
       "      <td>21020</td>\n",
       "      <td>0.00150</td>\n",
       "      <td>0.0112</td>\n",
       "      <td>11.52</td>\n",
       "      <td>1</td>\n",
       "      <td>2</td>\n",
       "    </tr>\n",
       "    <tr>\n",
       "      <th>1</th>\n",
       "      <td>2935</td>\n",
       "      <td>0.00087</td>\n",
       "      <td>0.0932</td>\n",
       "      <td>16.88</td>\n",
       "      <td>5</td>\n",
       "      <td>1</td>\n",
       "    </tr>\n",
       "    <tr>\n",
       "      <th>2</th>\n",
       "      <td>16390</td>\n",
       "      <td>1278.00000</td>\n",
       "      <td>5.6800</td>\n",
       "      <td>-3.32</td>\n",
       "      <td>1</td>\n",
       "      <td>2</td>\n",
       "    </tr>\n",
       "    <tr>\n",
       "      <th>3</th>\n",
       "      <td>3628</td>\n",
       "      <td>0.00550</td>\n",
       "      <td>0.3930</td>\n",
       "      <td>10.48</td>\n",
       "      <td>5</td>\n",
       "      <td>1</td>\n",
       "    </tr>\n",
       "    <tr>\n",
       "      <th>4</th>\n",
       "      <td>3496</td>\n",
       "      <td>0.00125</td>\n",
       "      <td>0.3360</td>\n",
       "      <td>14.94</td>\n",
       "      <td>5</td>\n",
       "      <td>1</td>\n",
       "    </tr>\n",
       "  </tbody>\n",
       "</table>\n",
       "</div>"
      ],
      "text/plain": [
       "   Temperature           L       R    A_M  Color  Spectral_Class\n",
       "0        21020     0.00150  0.0112  11.52      1               2\n",
       "1         2935     0.00087  0.0932  16.88      5               1\n",
       "2        16390  1278.00000  5.6800  -3.32      1               2\n",
       "3         3628     0.00550  0.3930  10.48      5               1\n",
       "4         3496     0.00125  0.3360  14.94      5               1"
      ]
     },
     "execution_count": 1160,
     "metadata": {},
     "output_type": "execute_result"
    }
   ],
   "source": [
    "dataf_test = pd.read_csv(file_path_test)\n",
    "dataf_test['Color'] = dataf_test['Color'].map({'Blue-white':'Blue', 'Blue white':'Blue', 'Blue-White':'Blue', 'Blue White':'Blue', 'Blue':'Blue',\n",
    "                             'Whitish':'White', 'white':'White','White':'White',\n",
    "                             'yellowish':'Yellow', 'yellow-white':'Yellow', 'Yellowish White':'Yellow', 'White-Yellow':'Yellow', 'Yellowish':'Yellow','Yellow':'Yellow',\n",
    "                             'Pale yellow orange':'Orange','Orange':'Orange',\n",
    "                             'Orange-Red':'Red','Red':'Red'})\n",
    "dataf_test['Color'] = dataf_test['Color'].map({'Blue':1,\n",
    "                             'White':2,\n",
    "                             'Yellow':3,\n",
    "                             'Orange':4,\n",
    "                             'Red':5})\n",
    "#Also we have to give a value to the spectral_class\n",
    "dataf_test['Spectral_Class'] = dataf_test['Spectral_Class'].map({'M':1,\n",
    "                             'B':2,\n",
    "                             'O':3,\n",
    "                             'K':4,\n",
    "                             'F':5,\n",
    "                             'A':6,\n",
    "                             'G':7})\n",
    "dataf_test.head()"
   ]
  },
  {
   "cell_type": "code",
   "execution_count": 1161,
   "metadata": {
    "colab": {
     "base_uri": "https://localhost:8080/"
    },
    "id": "HCxJlpRddWHh",
    "outputId": "7c78e469-b679-4165-df86-efeea39925d6"
   },
   "outputs": [
    {
     "data": {
      "text/plain": [
       "array([2, 0, 3, 1, 0, 1, 3, 5, 5, 2, 4, 2, 3, 0, 0, 4, 2, 5, 0, 4, 0, 5,\n",
       "       4, 4, 0, 1, 0, 5, 3, 4, 3, 3, 0, 5, 0, 1, 4, 0, 0], dtype=int64)"
      ]
     },
     "execution_count": 1161,
     "metadata": {},
     "output_type": "execute_result"
    }
   ],
   "source": [
    "# get inputs\n",
    "inputs = dataf_test[['Temperature','L','R','A_M','Color','Spectral_Class']]\n",
    "\n",
    "# scale input data\n",
    "x = inputs.values #returns a numpy array\n",
    "min_max_scaler = MinMaxScaler()\n",
    "x_scaled = min_max_scaler.fit_transform(x)\n",
    "inputs = pd.DataFrame(x_scaled)\n",
    "inputs[0:10]\n",
    "\n",
    "predicted_classes = model.predict(inputs)\n",
    "predicted_classes = np.argmax(np.round(predicted_classes), axis = 1)\n",
    "predicted_classes"
   ]
  },
  {
   "cell_type": "code",
   "execution_count": null,
   "metadata": {
    "id": "O1NRaqHglhLI"
   },
   "outputs": [],
   "source": []
  }
 ],
 "metadata": {
  "colab": {
   "collapsed_sections": [],
   "name": "Practica7.ipynb",
   "provenance": []
  },
  "kernelspec": {
   "display_name": "Python 3",
   "language": "python",
   "name": "python3"
  },
  "language_info": {
   "codemirror_mode": {
    "name": "ipython",
    "version": 3
   },
   "file_extension": ".py",
   "mimetype": "text/x-python",
   "name": "python",
   "nbconvert_exporter": "python",
   "pygments_lexer": "ipython3",
   "version": "3.8.5"
  }
 },
 "nbformat": 4,
 "nbformat_minor": 1
}
